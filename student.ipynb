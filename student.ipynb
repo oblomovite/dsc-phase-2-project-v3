{
 "cells": [
  {
   "cell_type": "markdown",
   "metadata": {},
   "source": [
    "## Final Project Submission\n",
    "\n",
    "Please fill out:\n",
    "* Student name: Robert Sheynin\n",
    "* Student pace: self paced \n",
    "* Scheduled project review date/time: \n",
    "* Instructor name: \n",
    "* Blog post URL: \n"
   ]
  },
  {
   "cell_type": "markdown",
   "metadata": {},
   "source": [
    "# Introduction\n",
    "This project is an analysis of several datasets that contain information about movies. The goal of this project is to provide insights and business recommendations about what types of movies are currently doing the best at the box office. The analysis will focus on the following: \n",
    "- genres\n",
    "- reviews (rotten tomatoes and imdb)\n",
    "- ROI and profit\n",
    "\n",
    "We will also focus on investigating any relationships between the above factors to answer:\n",
    "- What genres are currently the most popular?\n",
    "- What genres are the most profitable?\n",
    "- What genres have the best reviews?\n",
    "- What is the relationship between reviews and profit?\n",
    "\n",
    "TODO - maybe include actors, directors, and production companies in the analysis"
   ]
  },
  {
   "cell_type": "markdown",
   "metadata": {},
   "source": [
    "## Import the necessary libraries"
   ]
  },
  {
   "cell_type": "code",
   "execution_count": 80,
   "metadata": {},
   "outputs": [],
   "source": [
    "# setup\n",
    "import pandas as pd\n",
    "import sqlite3\n",
    "import matplotlib.pyplot as plt\n",
    "import numpy as np\n",
    "import seaborn as sns\n",
    "import plotly.graph_objs as go\n",
    "import plotly.express as px\n",
    "import requests\n",
    "import statsmodels.api as sm\n",
    "from sklearn.preprocessing import KBinsDiscretizer\n",
    "\n",
    "\n",
    "\n",
    "# set pandas options\n",
    "pd.set_option('display.max_rows', None)\n",
    "pd.set_option('display.max_columns', None)\n",
    "pd.set_option('display.max_colwidth', 100)\n",
    "pd.set_option('display.precision', 2)\n",
    "pd.set_option('display.large_repr', 'truncate')\n",
    "pd.set_option('display.expand_frame_repr', False)\n",
    "pd.set_option('display.memory_usage', 'deep')\n",
    "\n",
    "# api key for tmdb\n",
    "api_key = 'afb631d3b4cac582d777c74aeab9c37e'\n",
    "\n"
   ]
  },
  {
   "cell_type": "markdown",
   "metadata": {},
   "source": [
    "## Data Cleaning and Aggregation\n",
    "- Inspect the various data sources and determine what data is available and how it can be combined to create a single dataset"
   ]
  },
  {
   "cell_type": "markdown",
   "metadata": {},
   "source": [
    "### Process The Movie Database data\n",
    "- load the data\n",
    "- rename columns in preparation for merging\n",
    "- drop extraneous columns"
   ]
  },
  {
   "cell_type": "code",
   "execution_count": 2,
   "metadata": {},
   "outputs": [],
   "source": [
    "# read the other files\n",
    "tmdb_df = pd.read_csv('./data/tmdb.movies.csv')\n",
    "\n",
    "# rename vote_average to movie_score_tmdb\n",
    "tmdb_df.rename(columns={'vote_average': 'movie_score_tmdb'}, inplace=True)\n",
    "\n",
    "# drop columns\n",
    "tmdb_df.drop(columns=['Unnamed: 0', 'genre_ids', 'original_language', 'release_date', 'vote_count', 'popularity', 'id'], inplace=True)"
   ]
  },
  {
   "cell_type": "markdown",
   "metadata": {},
   "source": [
    "### Process Movie Gross Data\n",
    "- Clean up and process the data from [Box Office Mojo]('./data/bom.movie_gross.csv') \n",
    "- Aggregate the data with [The Numbers]('./data/tn.movie_budgets.csv') \n",
    "- Feature engineer the data to create a new column for ROI (Return on Investment)"
   ]
  },
  {
   "cell_type": "code",
   "execution_count": 3,
   "metadata": {},
   "outputs": [
    {
     "data": {
      "text/html": [
       "<div>\n",
       "<style scoped>\n",
       "    .dataframe tbody tr th:only-of-type {\n",
       "        vertical-align: middle;\n",
       "    }\n",
       "\n",
       "    .dataframe tbody tr th {\n",
       "        vertical-align: top;\n",
       "    }\n",
       "\n",
       "    .dataframe thead th {\n",
       "        text-align: right;\n",
       "    }\n",
       "</style>\n",
       "<table border=\"1\" class=\"dataframe\">\n",
       "  <thead>\n",
       "    <tr style=\"text-align: right;\">\n",
       "      <th></th>\n",
       "      <th>id</th>\n",
       "      <th>release_date</th>\n",
       "      <th>title</th>\n",
       "      <th>production_budget</th>\n",
       "      <th>domestic_gross_tn</th>\n",
       "      <th>worldwide_gross</th>\n",
       "      <th>studio</th>\n",
       "      <th>domestic_gross_bom</th>\n",
       "      <th>foreign_gross</th>\n",
       "      <th>year</th>\n",
       "      <th>original_title</th>\n",
       "      <th>movie_score_tmdb</th>\n",
       "      <th>release_month</th>\n",
       "      <th>release_year</th>\n",
       "      <th>profit</th>\n",
       "      <th>roi</th>\n",
       "    </tr>\n",
       "  </thead>\n",
       "  <tbody>\n",
       "    <tr>\n",
       "      <th>0</th>\n",
       "      <td>2</td>\n",
       "      <td>2011-05-20</td>\n",
       "      <td>Pirates of the Caribbean: On Stranger Tides</td>\n",
       "      <td>4.11e+08</td>\n",
       "      <td>2.41e+08</td>\n",
       "      <td>1.05e+09</td>\n",
       "      <td>BV</td>\n",
       "      <td>2.41e+08</td>\n",
       "      <td>804600000</td>\n",
       "      <td>2011</td>\n",
       "      <td>Pirates of the Caribbean: On Stranger Tides</td>\n",
       "      <td>6.4</td>\n",
       "      <td>May</td>\n",
       "      <td>2011</td>\n",
       "      <td>6.35e+08</td>\n",
       "      <td>1.55</td>\n",
       "    </tr>\n",
       "    <tr>\n",
       "      <th>1</th>\n",
       "      <td>4</td>\n",
       "      <td>2015-05-01</td>\n",
       "      <td>Avengers: Age of Ultron</td>\n",
       "      <td>3.31e+08</td>\n",
       "      <td>4.59e+08</td>\n",
       "      <td>1.40e+09</td>\n",
       "      <td>BV</td>\n",
       "      <td>4.59e+08</td>\n",
       "      <td>946400000</td>\n",
       "      <td>2015</td>\n",
       "      <td>Avengers: Age of Ultron</td>\n",
       "      <td>7.3</td>\n",
       "      <td>May</td>\n",
       "      <td>2015</td>\n",
       "      <td>1.07e+09</td>\n",
       "      <td>3.24</td>\n",
       "    </tr>\n",
       "    <tr>\n",
       "      <th>2</th>\n",
       "      <td>7</td>\n",
       "      <td>2018-04-27</td>\n",
       "      <td>Avengers: Infinity War</td>\n",
       "      <td>3.00e+08</td>\n",
       "      <td>6.79e+08</td>\n",
       "      <td>2.05e+09</td>\n",
       "      <td>BV</td>\n",
       "      <td>6.79e+08</td>\n",
       "      <td>1,369.5</td>\n",
       "      <td>2018</td>\n",
       "      <td>Avengers: Infinity War</td>\n",
       "      <td>8.3</td>\n",
       "      <td>Apr</td>\n",
       "      <td>2018</td>\n",
       "      <td>1.75e+09</td>\n",
       "      <td>5.83</td>\n",
       "    </tr>\n",
       "    <tr>\n",
       "      <th>3</th>\n",
       "      <td>9</td>\n",
       "      <td>2017-11-17</td>\n",
       "      <td>Justice League</td>\n",
       "      <td>3.00e+08</td>\n",
       "      <td>2.29e+08</td>\n",
       "      <td>6.56e+08</td>\n",
       "      <td>WB</td>\n",
       "      <td>2.29e+08</td>\n",
       "      <td>428900000</td>\n",
       "      <td>2017</td>\n",
       "      <td>Justice League</td>\n",
       "      <td>6.2</td>\n",
       "      <td>Nov</td>\n",
       "      <td>2017</td>\n",
       "      <td>3.56e+08</td>\n",
       "      <td>1.19</td>\n",
       "    </tr>\n",
       "    <tr>\n",
       "      <th>5</th>\n",
       "      <td>10</td>\n",
       "      <td>2015-11-06</td>\n",
       "      <td>Spectre</td>\n",
       "      <td>3.00e+08</td>\n",
       "      <td>2.00e+08</td>\n",
       "      <td>8.80e+08</td>\n",
       "      <td>Sony</td>\n",
       "      <td>2.00e+08</td>\n",
       "      <td>680600000</td>\n",
       "      <td>2015</td>\n",
       "      <td>Spectre</td>\n",
       "      <td>6.4</td>\n",
       "      <td>Nov</td>\n",
       "      <td>2015</td>\n",
       "      <td>5.80e+08</td>\n",
       "      <td>1.93</td>\n",
       "    </tr>\n",
       "  </tbody>\n",
       "</table>\n",
       "</div>"
      ],
      "text/plain": [
       "   id release_date                                        title  production_budget  domestic_gross_tn  worldwide_gross studio  domestic_gross_bom foreign_gross  year                               original_title  movie_score_tmdb release_month  release_year    profit   roi\n",
       "0   2   2011-05-20  Pirates of the Caribbean: On Stranger Tides           4.11e+08           2.41e+08         1.05e+09     BV            2.41e+08     804600000  2011  Pirates of the Caribbean: On Stranger Tides               6.4           May          2011  6.35e+08  1.55\n",
       "1   4   2015-05-01                      Avengers: Age of Ultron           3.31e+08           4.59e+08         1.40e+09     BV            4.59e+08     946400000  2015                      Avengers: Age of Ultron               7.3           May          2015  1.07e+09  3.24\n",
       "2   7   2018-04-27                       Avengers: Infinity War           3.00e+08           6.79e+08         2.05e+09     BV            6.79e+08       1,369.5  2018                       Avengers: Infinity War               8.3           Apr          2018  1.75e+09  5.83\n",
       "3   9   2017-11-17                               Justice League           3.00e+08           2.29e+08         6.56e+08     WB            2.29e+08     428900000  2017                               Justice League               6.2           Nov          2017  3.56e+08  1.19\n",
       "5  10   2015-11-06                                      Spectre           3.00e+08           2.00e+08         8.80e+08   Sony            2.00e+08     680600000  2015                                      Spectre               6.4           Nov          2015  5.80e+08  1.93"
      ]
     },
     "execution_count": 3,
     "metadata": {},
     "output_type": "execute_result"
    }
   ],
   "source": [
    "# load the revenue data\n",
    "gross_df = pd.read_csv('./data/bom.movie_gross.csv')\n",
    "budgets_df = pd.read_csv('./data/tn.movie_budgets.csv')\n",
    "\n",
    "# rename columns to have a common column name for merging\n",
    "budgets_df.rename(columns={'movie': 'title', 'domestic_gross': 'domestic_gross_tn'}, inplace=True)\n",
    "gross_df.rename(columns={ 'domestic_gross': 'domestic_gross_bom'}, inplace=True)\n",
    "\n",
    "# merge the data frames on the title column\n",
    "money_df = pd.merge(budgets_df, gross_df, on='title', how='inner')\n",
    "money_df['domestic_gross_bom'] = money_df['domestic_gross_bom'].astype(float)\n",
    "money_df['worldwide_gross'] = money_df['worldwide_gross'].str.replace(',', '').str.replace('$', '').astype(float)\n",
    "money_df['domestic_gross_tn'] = money_df['domestic_gross_tn'].str.replace(',', '').str.replace('$', '').astype(float)\n",
    "money_df['production_budget'] = money_df['production_budget'].str.replace(',', '').str.replace('$', '').astype(float)\n",
    "\n",
    "# merge the tmdb data\n",
    "money_df = pd.merge(money_df, tmdb_df, on='title', how='inner')\n",
    "\n",
    "# remove duplicates\n",
    "money_df.drop_duplicates(subset='title', inplace=True)\n",
    "\n",
    "# normalize the release date \n",
    "money_df['release_date'] = pd.to_datetime(money_df['release_date'], format='%b %d, %Y', errors='coerce')\n",
    "\n",
    "\n",
    "# extract release month and year\n",
    "money_df['release_month'] = money_df['release_date'].dt.strftime('%b')\n",
    "money_df['release_year'] = money_df['release_date'].dt.year\n",
    "\n",
    "\n",
    "# drop columns\n",
    "# money_df.drop(columns=['domestic_gross_bom', 'domestic_gross_tn', 'foreign_gross', 'id'], inplace=True)\n",
    "\n",
    "# add columns for profit and roi\n",
    "money_df['profit'] = money_df['worldwide_gross'] - money_df['production_budget']\n",
    "money_df['roi'] = (money_df['worldwide_gross'] - money_df['production_budget']) / money_df['production_budget']\n",
    "\n",
    "\n",
    "money_df.head()"
   ]
  },
  {
   "cell_type": "markdown",
   "metadata": {},
   "source": [
    "### Process Movie Reviews\n",
    "Clean up and aggregate the movie [rotten tomato review data]('./data/rt.reviews.tsv') and [rotten tomato review metadata]('./data/rt.movie_info.tsv).\n",
    "- load the movie data\n",
    "- impute missing ratings using 'fresh' and 'rotten' ratings as 8 and 2 respectively\n",
    "- remove reviews with no rating and no fresh or rotten rating\n",
    "- normalize the ratings to a 0-10 scale\n",
    "- remove extraneous columns ('critic', 'top_critic', 'publisher', 'date', 'box_office', 'genre', 'director', 'studio')\n",
    "- remove all attributes except 'id' and 'rating'\n",
    "    - note that 'review' which contains the review text is not included in the final data but could have been used for sentiment analysis to infer a missing rating as positive or negative\n",
    "- create a function to query tmdb for movie titles by director and year\n",
    "- combine the review data with the movie metadata"
   ]
  },
  {
   "cell_type": "code",
   "execution_count": 4,
   "metadata": {},
   "outputs": [
    {
     "data": {
      "text/html": [
       "<div>\n",
       "<style scoped>\n",
       "    .dataframe tbody tr th:only-of-type {\n",
       "        vertical-align: middle;\n",
       "    }\n",
       "\n",
       "    .dataframe tbody tr th {\n",
       "        vertical-align: top;\n",
       "    }\n",
       "\n",
       "    .dataframe thead th {\n",
       "        text-align: right;\n",
       "    }\n",
       "</style>\n",
       "<table border=\"1\" class=\"dataframe\">\n",
       "  <thead>\n",
       "    <tr style=\"text-align: right;\">\n",
       "      <th></th>\n",
       "      <th>id</th>\n",
       "      <th>rating</th>\n",
       "      <th>genre</th>\n",
       "      <th>director</th>\n",
       "      <th>writer</th>\n",
       "      <th>theater_date</th>\n",
       "      <th>currency</th>\n",
       "      <th>runtime</th>\n",
       "      <th>studio</th>\n",
       "      <th>review_score</th>\n",
       "      <th>fresh</th>\n",
       "      <th>month</th>\n",
       "      <th>year</th>\n",
       "      <th>title</th>\n",
       "    </tr>\n",
       "  </thead>\n",
       "  <tbody>\n",
       "    <tr>\n",
       "      <th>0</th>\n",
       "      <td>3</td>\n",
       "      <td>R</td>\n",
       "      <td>[Drama, Science Fiction and Fantasy]</td>\n",
       "      <td>David Cronenberg</td>\n",
       "      <td>David Cronenberg|Don DeLillo</td>\n",
       "      <td>2012-08-17</td>\n",
       "      <td>$</td>\n",
       "      <td>108 minutes</td>\n",
       "      <td>Entertainment One</td>\n",
       "      <td>6.0</td>\n",
       "      <td>fresh</td>\n",
       "      <td>Aug</td>\n",
       "      <td>2012.0</td>\n",
       "      <td>Cosmopolis</td>\n",
       "    </tr>\n",
       "    <tr>\n",
       "      <th>163</th>\n",
       "      <td>5</td>\n",
       "      <td>R</td>\n",
       "      <td>[Drama, Musical and Performing Arts]</td>\n",
       "      <td>Allison Anders</td>\n",
       "      <td>Allison Anders</td>\n",
       "      <td>1996-09-13</td>\n",
       "      <td>NaN</td>\n",
       "      <td>116 minutes</td>\n",
       "      <td>NaN</td>\n",
       "      <td>8.0</td>\n",
       "      <td>fresh</td>\n",
       "      <td>Sep</td>\n",
       "      <td>1996.0</td>\n",
       "      <td>Grace of My Heart</td>\n",
       "    </tr>\n",
       "    <tr>\n",
       "      <th>186</th>\n",
       "      <td>6</td>\n",
       "      <td>R</td>\n",
       "      <td>[Drama, Mystery and Suspense]</td>\n",
       "      <td>Barry Levinson</td>\n",
       "      <td>Paul Attanasio|Michael Crichton</td>\n",
       "      <td>1994-12-09</td>\n",
       "      <td>NaN</td>\n",
       "      <td>128 minutes</td>\n",
       "      <td>NaN</td>\n",
       "      <td>5.0</td>\n",
       "      <td>rotten</td>\n",
       "      <td>Dec</td>\n",
       "      <td>1994.0</td>\n",
       "      <td>Disclosure</td>\n",
       "    </tr>\n",
       "    <tr>\n",
       "      <th>243</th>\n",
       "      <td>8</td>\n",
       "      <td>PG</td>\n",
       "      <td>[Drama, Kids and Family]</td>\n",
       "      <td>Jay Russell</td>\n",
       "      <td>Gail Gilchriest</td>\n",
       "      <td>2000-03-03</td>\n",
       "      <td>NaN</td>\n",
       "      <td>95 minutes</td>\n",
       "      <td>Warner Bros. Pictures</td>\n",
       "      <td>8.0</td>\n",
       "      <td>fresh</td>\n",
       "      <td>Mar</td>\n",
       "      <td>2000.0</td>\n",
       "      <td>No Title Found</td>\n",
       "    </tr>\n",
       "    <tr>\n",
       "      <th>318</th>\n",
       "      <td>10</td>\n",
       "      <td>PG-13</td>\n",
       "      <td>[Comedy]</td>\n",
       "      <td>Jake Kasdan</td>\n",
       "      <td>Mike White</td>\n",
       "      <td>2002-01-11</td>\n",
       "      <td>$</td>\n",
       "      <td>82 minutes</td>\n",
       "      <td>Paramount Pictures</td>\n",
       "      <td>6.0</td>\n",
       "      <td>fresh</td>\n",
       "      <td>Jan</td>\n",
       "      <td>2002.0</td>\n",
       "      <td>Orange County</td>\n",
       "    </tr>\n",
       "  </tbody>\n",
       "</table>\n",
       "</div>"
      ],
      "text/plain": [
       "     id rating                                 genre          director                           writer theater_date currency      runtime                 studio  review_score   fresh month    year              title\n",
       "0     3      R  [Drama, Science Fiction and Fantasy]  David Cronenberg     David Cronenberg|Don DeLillo   2012-08-17        $  108 minutes      Entertainment One           6.0   fresh   Aug  2012.0         Cosmopolis\n",
       "163   5      R  [Drama, Musical and Performing Arts]    Allison Anders                   Allison Anders   1996-09-13      NaN  116 minutes                    NaN           8.0   fresh   Sep  1996.0  Grace of My Heart\n",
       "186   6      R         [Drama, Mystery and Suspense]    Barry Levinson  Paul Attanasio|Michael Crichton   1994-12-09      NaN  128 minutes                    NaN           5.0  rotten   Dec  1994.0         Disclosure\n",
       "243   8     PG              [Drama, Kids and Family]       Jay Russell                  Gail Gilchriest   2000-03-03      NaN   95 minutes  Warner Bros. Pictures           8.0   fresh   Mar  2000.0     No Title Found\n",
       "318  10  PG-13                              [Comedy]       Jake Kasdan                       Mike White   2002-01-11        $   82 minutes     Paramount Pictures           6.0   fresh   Jan  2002.0      Orange County"
      ]
     },
     "execution_count": 4,
     "metadata": {},
     "output_type": "execute_result"
    }
   ],
   "source": [
    "# load data\n",
    "reviews_df = pd.read_csv('./data/rt.reviews.tsv', delimiter='\\t', encoding='latin1')\n",
    "movie_info_df = pd.read_csv('./data/rt.movie_info.tsv', delimiter='\\t', encoding='latin1')\n",
    "\n",
    "# drop rows that do not have both a rating and a 'fresh' or 'rotten' value\n",
    "reviews_df = reviews_df[reviews_df['fresh'].isin(['fresh', 'rotten']) | reviews_df['rating'].notnull()]\n",
    "\n",
    "# normalize ratings\n",
    "def convert_rating(rating):\n",
    "    letter_grade_map = {\n",
    "        'A+': 10, 'A': 9.5, 'A-': 9,\n",
    "        'B+': 8.5, 'B': 8, 'B-': 7.5,\n",
    "        'C+': 7, 'C': 6.5, 'C-': 6,\n",
    "        'D+': 5.5, 'D': 5, 'D-': 4.5,\n",
    "        'F': 3\n",
    "    }\n",
    "    \n",
    "    def parse_fraction(fraction_str):\n",
    "        try:\n",
    "            if ' ' in fraction_str:\n",
    "                integer_part, fraction_part = fraction_str.split(' ')\n",
    "                num, denom = fraction_part.split('/')\n",
    "                return float(integer_part) + (float(num) / float(denom))\n",
    "            elif '/' in fraction_str:\n",
    "                num, denom = fraction_str.split('/')\n",
    "                return float(num) / float(denom)\n",
    "            else:\n",
    "                return float(fraction_str)\n",
    "        except ValueError:\n",
    "            print(f'Warning: Could not convert fraction {fraction_str}')\n",
    "            return None\n",
    "    \n",
    "    try:\n",
    "        if isinstance(rating, str):\n",
    "            if '/' in rating or ' ' in rating:\n",
    "                return parse_fraction(rating) * 10\n",
    "            elif rating in letter_grade_map:\n",
    "                return letter_grade_map[rating]\n",
    "            else:\n",
    "                return None\n",
    "        else:\n",
    "            return None\n",
    "            \n",
    "    except ValueError:\n",
    "        print(f'Warning: Could not convert rating {rating}')\n",
    "        return None\n",
    "\n",
    "\n",
    "# apply the conversion\n",
    "reviews_df['rating'] = reviews_df['rating'].apply(convert_rating)\n",
    "\n",
    "# convert rating to float\n",
    "reviews_df['rating'] = reviews_df['rating'].astype(float)\n",
    "\n",
    "# map the rotten and fresh ratings to integers to impute the missing ratings\n",
    "fresh_rotten_mapping = {\n",
    "    'rotten': 5,\n",
    "    'fresh': 8\n",
    "}\n",
    "\n",
    "# infer ratings based on 'fresh' and 'rotten' values\n",
    "reviews_df['inferred_rating'] = reviews_df['fresh'].map(fresh_rotten_mapping)\n",
    "\n",
    "# if 'review_score' is missing, use the inferred rating\n",
    "reviews_df['rating'] = reviews_df['rating'].fillna(reviews_df['inferred_rating'])\n",
    "\n",
    "# drop the 'inferred_rating' column as it was just used for imputation\n",
    "reviews_df.drop(columns=['inferred_rating'], inplace=True)\n",
    "\n",
    "# rename the 'rating' column in reviews_df to 'review_score'\n",
    "reviews_df.rename(columns={'rating': 'review_score'}, inplace=True)\n",
    "\n",
    "# merge the DataFrames on the 'id' column\n",
    "rotten_tomato_df = pd.merge(movie_info_df, reviews_df, on='id', how='inner')\n",
    "\n",
    "# normalize the release date\n",
    "rotten_tomato_df['theater_date'] = pd.to_datetime(rotten_tomato_df['theater_date'], format='%b %d, %Y', errors='coerce')\n",
    "\n",
    "# extract release month and year\n",
    "rotten_tomato_df['month'] = rotten_tomato_df['theater_date'].dt.strftime('%b')\n",
    "rotten_tomato_df['year'] = rotten_tomato_df['theater_date'].dt.year\n",
    "\n",
    "# process the genre column\n",
    "rotten_tomato_df['genre'] = rotten_tomato_df['genre'].str.split('|')\n",
    "#rotten_tomato_df['genre'] = rotten_tomato_df['genre'].apply(lambda x: [genre.strip().lower() for genre in x] if x is not None else x)\n",
    "\n",
    "# function to query the TMDb API for a movie's title by director and release date\n",
    "def search_movie_by_director_release(director_name, release_date):\n",
    "    # Step 1: Search for the director to get their TMDb ID\n",
    "    director_search_url = f\"https://api.themoviedb.org/3/search/person?api_key={api_key}&query={director_name}\"\n",
    "    director_response = requests.get(director_search_url).json()\n",
    "\n",
    "    if director_response['results']:\n",
    "        director_id = director_response['results'][0]['id']\n",
    "        \n",
    "        # Step 2: Use the director ID to search for movies\n",
    "        movie_search_url = f\"https://api.themoviedb.org/3/discover/movie?api_key={api_key}&with_people={director_id}&primary_release_year={release_date[:4]}\"\n",
    "        movie_response = requests.get(movie_search_url).json()\n",
    "        \n",
    "        if movie_response['results']:\n",
    "            return movie_response['results'][0]['title']  # Return the first matched title\n",
    "        else:\n",
    "            return \"No Title Found\"\n",
    "    else:\n",
    "        return \"Director Not Found\"\n",
    "\n",
    "# remove duplicates based on 'id'\n",
    "rotten_tomato_df.drop_duplicates(subset='id', inplace=True)\n",
    "\n",
    "# create a new column 'title' by making an API call for each row\n",
    "rotten_tomato_df['title'] = rotten_tomato_df.apply(\n",
    "    lambda row: search_movie_by_director_release(row['director'], str(row['theater_date'])), axis=1\n",
    ")\n",
    "\n",
    "# drop columns\n",
    "rotten_tomato_df.drop(columns=['dvd_date', 'date', 'box_office', 'synopsis', 'critic', 'publisher', 'top_critic', 'review'], inplace=True)\n",
    "\n",
    "rotten_tomato_df.head()"
   ]
  },
  {
   "cell_type": "code",
   "execution_count": 5,
   "metadata": {},
   "outputs": [
    {
     "name": "stdout",
     "output_type": "stream",
     "text": [
      "0.1682819383259912\n",
      "1135\n"
     ]
    }
   ],
   "source": [
    "## note that we have some missing values.\n",
    "\n",
    "# print the number of rows that contain 'No Title Found' in the 'title' column as a ratio of the total number of rows\n",
    "print(rotten_tomato_df[rotten_tomato_df['title'] == 'No Title Found'].shape[0] / rotten_tomato_df.shape[0])\n",
    "# print the total number of rows\n",
    "print(rotten_tomato_df.shape[0])"
   ]
  },
  {
   "cell_type": "markdown",
   "metadata": {},
   "source": [
    "### Process IMDB Data\n",
    "- load the IMDB data\n",
    "- query all tables and load them into a data frame\n",
    "- merge data"
   ]
  },
  {
   "cell_type": "code",
   "execution_count": 6,
   "metadata": {},
   "outputs": [
    {
     "name": "stdout",
     "output_type": "stream",
     "text": [
      "movie_basics:\n",
      "    movie_id                    primary_title              original_title  start_year  runtime_minutes                genres\n",
      "0  tt0063540                        Sunghursh                   Sunghursh        2013            175.0    Action,Crime,Drama\n",
      "1  tt0066787  One Day Before the Rainy Season             Ashad Ka Ek Din        2019            114.0       Biography,Drama\n",
      "2  tt0069049       The Other Side of the Wind  The Other Side of the Wind        2018            122.0                 Drama\n",
      "3  tt0069204                  Sabse Bada Sukh             Sabse Bada Sukh        2018              NaN          Comedy,Drama\n",
      "4  tt0100275         The Wandering Soap Opera       La Telenovela Errante        2017             80.0  Comedy,Drama,Fantasy\n",
      "\n",
      "\n",
      "directors:\n",
      "    movie_id  person_id\n",
      "0  tt0285252  nm0899854\n",
      "1  tt0462036  nm1940585\n",
      "2  tt0835418  nm0151540\n",
      "3  tt0835418  nm0151540\n",
      "4  tt0878654  nm0089502\n",
      "\n",
      "\n",
      "known_for:\n",
      "   person_id   movie_id\n",
      "0  nm0061671  tt0837562\n",
      "1  nm0061671  tt2398241\n",
      "2  nm0061671  tt0844471\n",
      "3  nm0061671  tt0118553\n",
      "4  nm0061865  tt0896534\n",
      "\n",
      "\n",
      "movie_akas:\n",
      "    movie_id  ordering                                    title region language        types   attributes  is_original_title\n",
      "0  tt0369610        10                            Джурасик свят     BG       bg         None         None                0.0\n",
      "1  tt0369610        11                        Jurashikku warudo     JP     None  imdbDisplay         None                0.0\n",
      "2  tt0369610        12  Jurassic World: O Mundo dos Dinossauros     BR     None  imdbDisplay         None                0.0\n",
      "3  tt0369610        13                  O Mundo dos Dinossauros     BR     None         None  short title                0.0\n",
      "4  tt0369610        14                           Jurassic World     FR     None  imdbDisplay         None                0.0\n",
      "\n",
      "\n",
      "movie_ratings:\n",
      "     movie_id  averagerating  numvotes\n",
      "0  tt10356526            8.3        31\n",
      "1  tt10384606            8.9       559\n",
      "2   tt1042974            6.4        20\n",
      "3   tt1043726            4.2     50352\n",
      "4   tt1060240            6.5        21\n",
      "\n",
      "\n",
      "persons:\n",
      "   person_id       primary_name  birth_year  death_year                                primary_profession\n",
      "0  nm0061671  Mary Ellen Bauder         NaN         NaN         miscellaneous,production_manager,producer\n",
      "1  nm0061865       Joseph Bauer         NaN         NaN        composer,music_department,sound_department\n",
      "2  nm0062070         Bruce Baum         NaN         NaN                        miscellaneous,actor,writer\n",
      "3  nm0062195       Axel Baumann         NaN         NaN  camera_department,cinematographer,art_department\n",
      "4  nm0062798        Pete Baxter         NaN         NaN  production_designer,art_department,set_decorator\n",
      "\n",
      "\n",
      "principals:\n",
      "    movie_id  ordering  person_id  category       job        characters\n",
      "0  tt0111414         1  nm0246005     actor      None       [\"The Man\"]\n",
      "1  tt0111414         2  nm0398271  director      None              None\n",
      "2  tt0111414         3  nm3739909  producer  producer              None\n",
      "3  tt0323808        10  nm0059247    editor      None              None\n",
      "4  tt0323808         1  nm3579312   actress      None  [\"Beth Boothby\"]\n",
      "\n",
      "\n",
      "writers:\n",
      "    movie_id  person_id\n",
      "0  tt0285252  nm0899854\n",
      "1  tt0438973  nm0175726\n",
      "2  tt0438973  nm1802864\n",
      "3  tt0462036  nm1940585\n",
      "4  tt0835418  nm0310087\n",
      "\n",
      "\n"
     ]
    }
   ],
   "source": [
    "# load sql data\n",
    "conn = sqlite3.connect('./data/im.db')\n",
    "\n",
    "# load all tables into a dataframe\n",
    "tables = pd.read_sql_query(\"SELECT name FROM sqlite_master WHERE type='table';\", conn)\n",
    "table_names = tables['name'].tolist()\n",
    "im_df = {table: pd.read_sql_query(f\"SELECT * FROM {table};\", conn) for table in table_names}\n",
    "\n",
    "# close connection \n",
    "conn.close()\n",
    "\n",
    "# print the head of each table\n",
    "for table, df in im_df.items():\n",
    "    print(f'{table}:\\n{df.head()}\\n\\n')\n"
   ]
  },
  {
   "cell_type": "code",
   "execution_count": 7,
   "metadata": {},
   "outputs": [
    {
     "data": {
      "text/html": [
       "<div>\n",
       "<style scoped>\n",
       "    .dataframe tbody tr th:only-of-type {\n",
       "        vertical-align: middle;\n",
       "    }\n",
       "\n",
       "    .dataframe tbody tr th {\n",
       "        vertical-align: top;\n",
       "    }\n",
       "\n",
       "    .dataframe thead th {\n",
       "        text-align: right;\n",
       "    }\n",
       "</style>\n",
       "<table border=\"1\" class=\"dataframe\">\n",
       "  <thead>\n",
       "    <tr style=\"text-align: right;\">\n",
       "      <th></th>\n",
       "      <th>movie_id</th>\n",
       "      <th>primary_title</th>\n",
       "      <th>original_title</th>\n",
       "      <th>start_year</th>\n",
       "      <th>runtime_minutes</th>\n",
       "      <th>genres</th>\n",
       "      <th>averagerating</th>\n",
       "      <th>numvotes</th>\n",
       "    </tr>\n",
       "  </thead>\n",
       "  <tbody>\n",
       "    <tr>\n",
       "      <th>0</th>\n",
       "      <td>tt0063540</td>\n",
       "      <td>Sunghursh</td>\n",
       "      <td>Sunghursh</td>\n",
       "      <td>2013</td>\n",
       "      <td>175.0</td>\n",
       "      <td>[action, crime, drama]</td>\n",
       "      <td>7.0</td>\n",
       "      <td>77.0</td>\n",
       "    </tr>\n",
       "    <tr>\n",
       "      <th>1</th>\n",
       "      <td>tt0066787</td>\n",
       "      <td>One Day Before the Rainy Season</td>\n",
       "      <td>Ashad Ka Ek Din</td>\n",
       "      <td>2019</td>\n",
       "      <td>114.0</td>\n",
       "      <td>[biography, drama]</td>\n",
       "      <td>7.2</td>\n",
       "      <td>43.0</td>\n",
       "    </tr>\n",
       "    <tr>\n",
       "      <th>2</th>\n",
       "      <td>tt0069049</td>\n",
       "      <td>The Other Side of the Wind</td>\n",
       "      <td>The Other Side of the Wind</td>\n",
       "      <td>2018</td>\n",
       "      <td>122.0</td>\n",
       "      <td>[drama]</td>\n",
       "      <td>6.9</td>\n",
       "      <td>4517.0</td>\n",
       "    </tr>\n",
       "    <tr>\n",
       "      <th>3</th>\n",
       "      <td>tt0069204</td>\n",
       "      <td>Sabse Bada Sukh</td>\n",
       "      <td>Sabse Bada Sukh</td>\n",
       "      <td>2018</td>\n",
       "      <td>NaN</td>\n",
       "      <td>[comedy, drama]</td>\n",
       "      <td>6.1</td>\n",
       "      <td>13.0</td>\n",
       "    </tr>\n",
       "    <tr>\n",
       "      <th>4</th>\n",
       "      <td>tt0100275</td>\n",
       "      <td>The Wandering Soap Opera</td>\n",
       "      <td>La Telenovela Errante</td>\n",
       "      <td>2017</td>\n",
       "      <td>80.0</td>\n",
       "      <td>[comedy, drama, fantasy]</td>\n",
       "      <td>6.5</td>\n",
       "      <td>119.0</td>\n",
       "    </tr>\n",
       "    <tr>\n",
       "      <th>5</th>\n",
       "      <td>tt0111414</td>\n",
       "      <td>A Thin Life</td>\n",
       "      <td>A Thin Life</td>\n",
       "      <td>2018</td>\n",
       "      <td>75.0</td>\n",
       "      <td>[comedy]</td>\n",
       "      <td>NaN</td>\n",
       "      <td>NaN</td>\n",
       "    </tr>\n",
       "    <tr>\n",
       "      <th>6</th>\n",
       "      <td>tt0112502</td>\n",
       "      <td>Bigfoot</td>\n",
       "      <td>Bigfoot</td>\n",
       "      <td>2017</td>\n",
       "      <td>NaN</td>\n",
       "      <td>[horror, thriller]</td>\n",
       "      <td>4.1</td>\n",
       "      <td>32.0</td>\n",
       "    </tr>\n",
       "    <tr>\n",
       "      <th>7</th>\n",
       "      <td>tt0137204</td>\n",
       "      <td>Joe Finds Grace</td>\n",
       "      <td>Joe Finds Grace</td>\n",
       "      <td>2017</td>\n",
       "      <td>83.0</td>\n",
       "      <td>[adventure, animation, comedy]</td>\n",
       "      <td>8.1</td>\n",
       "      <td>263.0</td>\n",
       "    </tr>\n",
       "    <tr>\n",
       "      <th>8</th>\n",
       "      <td>tt0139613</td>\n",
       "      <td>O Silêncio</td>\n",
       "      <td>O Silêncio</td>\n",
       "      <td>2012</td>\n",
       "      <td>NaN</td>\n",
       "      <td>[documentary, history]</td>\n",
       "      <td>NaN</td>\n",
       "      <td>NaN</td>\n",
       "    </tr>\n",
       "    <tr>\n",
       "      <th>9</th>\n",
       "      <td>tt0144449</td>\n",
       "      <td>Nema aviona za Zagreb</td>\n",
       "      <td>Nema aviona za Zagreb</td>\n",
       "      <td>2012</td>\n",
       "      <td>82.0</td>\n",
       "      <td>[biography]</td>\n",
       "      <td>NaN</td>\n",
       "      <td>NaN</td>\n",
       "    </tr>\n",
       "  </tbody>\n",
       "</table>\n",
       "</div>"
      ],
      "text/plain": [
       "    movie_id                    primary_title              original_title  start_year  runtime_minutes                          genres  averagerating  numvotes\n",
       "0  tt0063540                        Sunghursh                   Sunghursh        2013            175.0          [action, crime, drama]            7.0      77.0\n",
       "1  tt0066787  One Day Before the Rainy Season             Ashad Ka Ek Din        2019            114.0              [biography, drama]            7.2      43.0\n",
       "2  tt0069049       The Other Side of the Wind  The Other Side of the Wind        2018            122.0                         [drama]            6.9    4517.0\n",
       "3  tt0069204                  Sabse Bada Sukh             Sabse Bada Sukh        2018              NaN                 [comedy, drama]            6.1      13.0\n",
       "4  tt0100275         The Wandering Soap Opera       La Telenovela Errante        2017             80.0        [comedy, drama, fantasy]            6.5     119.0\n",
       "5  tt0111414                      A Thin Life                 A Thin Life        2018             75.0                        [comedy]            NaN       NaN\n",
       "6  tt0112502                          Bigfoot                     Bigfoot        2017              NaN              [horror, thriller]            4.1      32.0\n",
       "7  tt0137204                  Joe Finds Grace             Joe Finds Grace        2017             83.0  [adventure, animation, comedy]            8.1     263.0\n",
       "8  tt0139613                       O Silêncio                  O Silêncio        2012              NaN          [documentary, history]            NaN       NaN\n",
       "9  tt0144449            Nema aviona za Zagreb       Nema aviona za Zagreb        2012             82.0                     [biography]            NaN       NaN"
      ]
     },
     "execution_count": 7,
     "metadata": {},
     "output_type": "execute_result"
    }
   ],
   "source": [
    "# flatten the imdb dataframe\n",
    "movie_df = im_df['movie_basics']\n",
    "\n",
    "# merge movie_ratings\n",
    "movie_df = pd.merge(movie_df, im_df['movie_ratings'], on='movie_id', how='left')\n",
    "\n",
    "# mark missing values as unknown\n",
    "movie_df['genres'] = movie_df['genres'].fillna('Unknown')\n",
    "\n",
    "# split genres into a list\n",
    "movie_df['genres'] = movie_df['genres'].str.split(',')\n",
    "\n",
    "# normalize genres\n",
    "movie_df['genres'] = movie_df['genres'].apply(lambda x: [genre.strip().lower() for genre in x])\n",
    "\n",
    "\n",
    "\n",
    "# merge directors\n",
    "df = pd.merge(df, im_df['directors'], on='movie_id', how='left')\n",
    "\n",
    "# merge writers\n",
    "# df = pd.merge(df, im_df['writers'], on='movie_id', how='left')\n",
    "\n",
    "# # merge with principals\n",
    "# df = pd.merge(df, im_df['principals'], on='movie_id', how='left')\n",
    "\n",
    "# # merge with writers\n",
    "# df = pd.merge(df, im_df['writers'], on='movie_id', how='left')\n",
    "\n",
    "# # merge with persons\n",
    "# df = pd.merge(df, im_df['persons'], on='person_id', how='left')\n",
    "\n",
    "movie_df.head(10)\n",
    "\n",
    "\n"
   ]
  },
  {
   "cell_type": "markdown",
   "metadata": {},
   "source": [
    "### Combine the data\n",
    "- combine the data from the movie database, movie gross, movie reviews, and IMDB data into a single data frame\n",
    "- save the data to derrived_data.csv"
   ]
  },
  {
   "cell_type": "code",
   "execution_count": 8,
   "metadata": {},
   "outputs": [
    {
     "data": {
      "text/html": [
       "<div>\n",
       "<style scoped>\n",
       "    .dataframe tbody tr th:only-of-type {\n",
       "        vertical-align: middle;\n",
       "    }\n",
       "\n",
       "    .dataframe tbody tr th {\n",
       "        vertical-align: top;\n",
       "    }\n",
       "\n",
       "    .dataframe thead th {\n",
       "        text-align: right;\n",
       "    }\n",
       "</style>\n",
       "<table border=\"1\" class=\"dataframe\">\n",
       "  <thead>\n",
       "    <tr style=\"text-align: right;\">\n",
       "      <th></th>\n",
       "      <th>movie_id</th>\n",
       "      <th>primary_title</th>\n",
       "      <th>original_title</th>\n",
       "      <th>start_year</th>\n",
       "      <th>runtime_minutes</th>\n",
       "      <th>genres</th>\n",
       "      <th>averagerating</th>\n",
       "      <th>numvotes</th>\n",
       "    </tr>\n",
       "  </thead>\n",
       "  <tbody>\n",
       "    <tr>\n",
       "      <th>0</th>\n",
       "      <td>tt0063540</td>\n",
       "      <td>Sunghursh</td>\n",
       "      <td>Sunghursh</td>\n",
       "      <td>2013</td>\n",
       "      <td>175.0</td>\n",
       "      <td>[action, crime, drama]</td>\n",
       "      <td>7.0</td>\n",
       "      <td>77.0</td>\n",
       "    </tr>\n",
       "    <tr>\n",
       "      <th>1</th>\n",
       "      <td>tt0066787</td>\n",
       "      <td>One Day Before the Rainy Season</td>\n",
       "      <td>Ashad Ka Ek Din</td>\n",
       "      <td>2019</td>\n",
       "      <td>114.0</td>\n",
       "      <td>[biography, drama]</td>\n",
       "      <td>7.2</td>\n",
       "      <td>43.0</td>\n",
       "    </tr>\n",
       "    <tr>\n",
       "      <th>2</th>\n",
       "      <td>tt0069049</td>\n",
       "      <td>The Other Side of the Wind</td>\n",
       "      <td>The Other Side of the Wind</td>\n",
       "      <td>2018</td>\n",
       "      <td>122.0</td>\n",
       "      <td>[drama]</td>\n",
       "      <td>6.9</td>\n",
       "      <td>4517.0</td>\n",
       "    </tr>\n",
       "    <tr>\n",
       "      <th>3</th>\n",
       "      <td>tt0069204</td>\n",
       "      <td>Sabse Bada Sukh</td>\n",
       "      <td>Sabse Bada Sukh</td>\n",
       "      <td>2018</td>\n",
       "      <td>NaN</td>\n",
       "      <td>[comedy, drama]</td>\n",
       "      <td>6.1</td>\n",
       "      <td>13.0</td>\n",
       "    </tr>\n",
       "    <tr>\n",
       "      <th>4</th>\n",
       "      <td>tt0100275</td>\n",
       "      <td>The Wandering Soap Opera</td>\n",
       "      <td>La Telenovela Errante</td>\n",
       "      <td>2017</td>\n",
       "      <td>80.0</td>\n",
       "      <td>[comedy, drama, fantasy]</td>\n",
       "      <td>6.5</td>\n",
       "      <td>119.0</td>\n",
       "    </tr>\n",
       "  </tbody>\n",
       "</table>\n",
       "</div>"
      ],
      "text/plain": [
       "    movie_id                    primary_title              original_title  start_year  runtime_minutes                    genres  averagerating  numvotes\n",
       "0  tt0063540                        Sunghursh                   Sunghursh        2013            175.0    [action, crime, drama]            7.0      77.0\n",
       "1  tt0066787  One Day Before the Rainy Season             Ashad Ka Ek Din        2019            114.0        [biography, drama]            7.2      43.0\n",
       "2  tt0069049       The Other Side of the Wind  The Other Side of the Wind        2018            122.0                   [drama]            6.9    4517.0\n",
       "3  tt0069204                  Sabse Bada Sukh             Sabse Bada Sukh        2018              NaN           [comedy, drama]            6.1      13.0\n",
       "4  tt0100275         The Wandering Soap Opera       La Telenovela Errante        2017             80.0  [comedy, drama, fantasy]            6.5     119.0"
      ]
     },
     "execution_count": 8,
     "metadata": {},
     "output_type": "execute_result"
    }
   ],
   "source": [
    "movie_df.head()"
   ]
  },
  {
   "cell_type": "code",
   "execution_count": 9,
   "metadata": {},
   "outputs": [
    {
     "data": {
      "text/html": [
       "<div>\n",
       "<style scoped>\n",
       "    .dataframe tbody tr th:only-of-type {\n",
       "        vertical-align: middle;\n",
       "    }\n",
       "\n",
       "    .dataframe tbody tr th {\n",
       "        vertical-align: top;\n",
       "    }\n",
       "\n",
       "    .dataframe thead th {\n",
       "        text-align: right;\n",
       "    }\n",
       "</style>\n",
       "<table border=\"1\" class=\"dataframe\">\n",
       "  <thead>\n",
       "    <tr style=\"text-align: right;\">\n",
       "      <th></th>\n",
       "      <th>id</th>\n",
       "      <th>rating</th>\n",
       "      <th>genre</th>\n",
       "      <th>director</th>\n",
       "      <th>writer</th>\n",
       "      <th>theater_date</th>\n",
       "      <th>currency</th>\n",
       "      <th>runtime</th>\n",
       "      <th>studio</th>\n",
       "      <th>review_score</th>\n",
       "      <th>fresh</th>\n",
       "      <th>month</th>\n",
       "      <th>year</th>\n",
       "      <th>title</th>\n",
       "    </tr>\n",
       "  </thead>\n",
       "  <tbody>\n",
       "    <tr>\n",
       "      <th>0</th>\n",
       "      <td>3</td>\n",
       "      <td>R</td>\n",
       "      <td>[Drama, Science Fiction and Fantasy]</td>\n",
       "      <td>David Cronenberg</td>\n",
       "      <td>David Cronenberg|Don DeLillo</td>\n",
       "      <td>2012-08-17</td>\n",
       "      <td>$</td>\n",
       "      <td>108 minutes</td>\n",
       "      <td>Entertainment One</td>\n",
       "      <td>6.0</td>\n",
       "      <td>fresh</td>\n",
       "      <td>Aug</td>\n",
       "      <td>2012.0</td>\n",
       "      <td>Cosmopolis</td>\n",
       "    </tr>\n",
       "    <tr>\n",
       "      <th>163</th>\n",
       "      <td>5</td>\n",
       "      <td>R</td>\n",
       "      <td>[Drama, Musical and Performing Arts]</td>\n",
       "      <td>Allison Anders</td>\n",
       "      <td>Allison Anders</td>\n",
       "      <td>1996-09-13</td>\n",
       "      <td>NaN</td>\n",
       "      <td>116 minutes</td>\n",
       "      <td>NaN</td>\n",
       "      <td>8.0</td>\n",
       "      <td>fresh</td>\n",
       "      <td>Sep</td>\n",
       "      <td>1996.0</td>\n",
       "      <td>Grace of My Heart</td>\n",
       "    </tr>\n",
       "    <tr>\n",
       "      <th>186</th>\n",
       "      <td>6</td>\n",
       "      <td>R</td>\n",
       "      <td>[Drama, Mystery and Suspense]</td>\n",
       "      <td>Barry Levinson</td>\n",
       "      <td>Paul Attanasio|Michael Crichton</td>\n",
       "      <td>1994-12-09</td>\n",
       "      <td>NaN</td>\n",
       "      <td>128 minutes</td>\n",
       "      <td>NaN</td>\n",
       "      <td>5.0</td>\n",
       "      <td>rotten</td>\n",
       "      <td>Dec</td>\n",
       "      <td>1994.0</td>\n",
       "      <td>Disclosure</td>\n",
       "    </tr>\n",
       "    <tr>\n",
       "      <th>243</th>\n",
       "      <td>8</td>\n",
       "      <td>PG</td>\n",
       "      <td>[Drama, Kids and Family]</td>\n",
       "      <td>Jay Russell</td>\n",
       "      <td>Gail Gilchriest</td>\n",
       "      <td>2000-03-03</td>\n",
       "      <td>NaN</td>\n",
       "      <td>95 minutes</td>\n",
       "      <td>Warner Bros. Pictures</td>\n",
       "      <td>8.0</td>\n",
       "      <td>fresh</td>\n",
       "      <td>Mar</td>\n",
       "      <td>2000.0</td>\n",
       "      <td>No Title Found</td>\n",
       "    </tr>\n",
       "    <tr>\n",
       "      <th>318</th>\n",
       "      <td>10</td>\n",
       "      <td>PG-13</td>\n",
       "      <td>[Comedy]</td>\n",
       "      <td>Jake Kasdan</td>\n",
       "      <td>Mike White</td>\n",
       "      <td>2002-01-11</td>\n",
       "      <td>$</td>\n",
       "      <td>82 minutes</td>\n",
       "      <td>Paramount Pictures</td>\n",
       "      <td>6.0</td>\n",
       "      <td>fresh</td>\n",
       "      <td>Jan</td>\n",
       "      <td>2002.0</td>\n",
       "      <td>Orange County</td>\n",
       "    </tr>\n",
       "  </tbody>\n",
       "</table>\n",
       "</div>"
      ],
      "text/plain": [
       "     id rating                                 genre          director                           writer theater_date currency      runtime                 studio  review_score   fresh month    year              title\n",
       "0     3      R  [Drama, Science Fiction and Fantasy]  David Cronenberg     David Cronenberg|Don DeLillo   2012-08-17        $  108 minutes      Entertainment One           6.0   fresh   Aug  2012.0         Cosmopolis\n",
       "163   5      R  [Drama, Musical and Performing Arts]    Allison Anders                   Allison Anders   1996-09-13      NaN  116 minutes                    NaN           8.0   fresh   Sep  1996.0  Grace of My Heart\n",
       "186   6      R         [Drama, Mystery and Suspense]    Barry Levinson  Paul Attanasio|Michael Crichton   1994-12-09      NaN  128 minutes                    NaN           5.0  rotten   Dec  1994.0         Disclosure\n",
       "243   8     PG              [Drama, Kids and Family]       Jay Russell                  Gail Gilchriest   2000-03-03      NaN   95 minutes  Warner Bros. Pictures           8.0   fresh   Mar  2000.0     No Title Found\n",
       "318  10  PG-13                              [Comedy]       Jake Kasdan                       Mike White   2002-01-11        $   82 minutes     Paramount Pictures           6.0   fresh   Jan  2002.0      Orange County"
      ]
     },
     "execution_count": 9,
     "metadata": {},
     "output_type": "execute_result"
    }
   ],
   "source": [
    "rotten_tomato_df.head()"
   ]
  },
  {
   "cell_type": "code",
   "execution_count": 10,
   "metadata": {},
   "outputs": [
    {
     "data": {
      "text/html": [
       "<div>\n",
       "<style scoped>\n",
       "    .dataframe tbody tr th:only-of-type {\n",
       "        vertical-align: middle;\n",
       "    }\n",
       "\n",
       "    .dataframe tbody tr th {\n",
       "        vertical-align: top;\n",
       "    }\n",
       "\n",
       "    .dataframe thead th {\n",
       "        text-align: right;\n",
       "    }\n",
       "</style>\n",
       "<table border=\"1\" class=\"dataframe\">\n",
       "  <thead>\n",
       "    <tr style=\"text-align: right;\">\n",
       "      <th></th>\n",
       "      <th>id</th>\n",
       "      <th>release_date</th>\n",
       "      <th>title</th>\n",
       "      <th>production_budget</th>\n",
       "      <th>domestic_gross_tn</th>\n",
       "      <th>worldwide_gross</th>\n",
       "      <th>studio</th>\n",
       "      <th>domestic_gross_bom</th>\n",
       "      <th>foreign_gross</th>\n",
       "      <th>year</th>\n",
       "      <th>original_title</th>\n",
       "      <th>movie_score_tmdb</th>\n",
       "      <th>release_month</th>\n",
       "      <th>release_year</th>\n",
       "      <th>profit</th>\n",
       "      <th>roi</th>\n",
       "    </tr>\n",
       "  </thead>\n",
       "  <tbody>\n",
       "    <tr>\n",
       "      <th>0</th>\n",
       "      <td>2</td>\n",
       "      <td>2011-05-20</td>\n",
       "      <td>Pirates of the Caribbean: On Stranger Tides</td>\n",
       "      <td>4.11e+08</td>\n",
       "      <td>2.41e+08</td>\n",
       "      <td>1.05e+09</td>\n",
       "      <td>BV</td>\n",
       "      <td>2.41e+08</td>\n",
       "      <td>804600000</td>\n",
       "      <td>2011</td>\n",
       "      <td>Pirates of the Caribbean: On Stranger Tides</td>\n",
       "      <td>6.4</td>\n",
       "      <td>May</td>\n",
       "      <td>2011</td>\n",
       "      <td>6.35e+08</td>\n",
       "      <td>1.55</td>\n",
       "    </tr>\n",
       "    <tr>\n",
       "      <th>1</th>\n",
       "      <td>4</td>\n",
       "      <td>2015-05-01</td>\n",
       "      <td>Avengers: Age of Ultron</td>\n",
       "      <td>3.31e+08</td>\n",
       "      <td>4.59e+08</td>\n",
       "      <td>1.40e+09</td>\n",
       "      <td>BV</td>\n",
       "      <td>4.59e+08</td>\n",
       "      <td>946400000</td>\n",
       "      <td>2015</td>\n",
       "      <td>Avengers: Age of Ultron</td>\n",
       "      <td>7.3</td>\n",
       "      <td>May</td>\n",
       "      <td>2015</td>\n",
       "      <td>1.07e+09</td>\n",
       "      <td>3.24</td>\n",
       "    </tr>\n",
       "    <tr>\n",
       "      <th>2</th>\n",
       "      <td>7</td>\n",
       "      <td>2018-04-27</td>\n",
       "      <td>Avengers: Infinity War</td>\n",
       "      <td>3.00e+08</td>\n",
       "      <td>6.79e+08</td>\n",
       "      <td>2.05e+09</td>\n",
       "      <td>BV</td>\n",
       "      <td>6.79e+08</td>\n",
       "      <td>1,369.5</td>\n",
       "      <td>2018</td>\n",
       "      <td>Avengers: Infinity War</td>\n",
       "      <td>8.3</td>\n",
       "      <td>Apr</td>\n",
       "      <td>2018</td>\n",
       "      <td>1.75e+09</td>\n",
       "      <td>5.83</td>\n",
       "    </tr>\n",
       "    <tr>\n",
       "      <th>3</th>\n",
       "      <td>9</td>\n",
       "      <td>2017-11-17</td>\n",
       "      <td>Justice League</td>\n",
       "      <td>3.00e+08</td>\n",
       "      <td>2.29e+08</td>\n",
       "      <td>6.56e+08</td>\n",
       "      <td>WB</td>\n",
       "      <td>2.29e+08</td>\n",
       "      <td>428900000</td>\n",
       "      <td>2017</td>\n",
       "      <td>Justice League</td>\n",
       "      <td>6.2</td>\n",
       "      <td>Nov</td>\n",
       "      <td>2017</td>\n",
       "      <td>3.56e+08</td>\n",
       "      <td>1.19</td>\n",
       "    </tr>\n",
       "    <tr>\n",
       "      <th>5</th>\n",
       "      <td>10</td>\n",
       "      <td>2015-11-06</td>\n",
       "      <td>Spectre</td>\n",
       "      <td>3.00e+08</td>\n",
       "      <td>2.00e+08</td>\n",
       "      <td>8.80e+08</td>\n",
       "      <td>Sony</td>\n",
       "      <td>2.00e+08</td>\n",
       "      <td>680600000</td>\n",
       "      <td>2015</td>\n",
       "      <td>Spectre</td>\n",
       "      <td>6.4</td>\n",
       "      <td>Nov</td>\n",
       "      <td>2015</td>\n",
       "      <td>5.80e+08</td>\n",
       "      <td>1.93</td>\n",
       "    </tr>\n",
       "  </tbody>\n",
       "</table>\n",
       "</div>"
      ],
      "text/plain": [
       "   id release_date                                        title  production_budget  domestic_gross_tn  worldwide_gross studio  domestic_gross_bom foreign_gross  year                               original_title  movie_score_tmdb release_month  release_year    profit   roi\n",
       "0   2   2011-05-20  Pirates of the Caribbean: On Stranger Tides           4.11e+08           2.41e+08         1.05e+09     BV            2.41e+08     804600000  2011  Pirates of the Caribbean: On Stranger Tides               6.4           May          2011  6.35e+08  1.55\n",
       "1   4   2015-05-01                      Avengers: Age of Ultron           3.31e+08           4.59e+08         1.40e+09     BV            4.59e+08     946400000  2015                      Avengers: Age of Ultron               7.3           May          2015  1.07e+09  3.24\n",
       "2   7   2018-04-27                       Avengers: Infinity War           3.00e+08           6.79e+08         2.05e+09     BV            6.79e+08       1,369.5  2018                       Avengers: Infinity War               8.3           Apr          2018  1.75e+09  5.83\n",
       "3   9   2017-11-17                               Justice League           3.00e+08           2.29e+08         6.56e+08     WB            2.29e+08     428900000  2017                               Justice League               6.2           Nov          2017  3.56e+08  1.19\n",
       "5  10   2015-11-06                                      Spectre           3.00e+08           2.00e+08         8.80e+08   Sony            2.00e+08     680600000  2015                                      Spectre               6.4           Nov          2015  5.80e+08  1.93"
      ]
     },
     "execution_count": 10,
     "metadata": {},
     "output_type": "execute_result"
    }
   ],
   "source": [
    "money_df.head()"
   ]
  },
  {
   "cell_type": "code",
   "execution_count": 19,
   "metadata": {},
   "outputs": [
    {
     "name": "stderr",
     "output_type": "stream",
     "text": [
      "/var/folders/zp/h7t69w7n1jvg_7vxjttlw77c0000gn/T/ipykernel_47396/2004243597.py:39: FutureWarning: The behavior of array concatenation with empty entries is deprecated. In a future version, this will no longer exclude empty items when determining the result dtype. To retain the old behavior, exclude the empty entries before the concat operation.\n",
      "  final_combined_df[base_col_name] = final_combined_df[base_col_name].combine_first(final_combined_df[col])\n",
      "/var/folders/zp/h7t69w7n1jvg_7vxjttlw77c0000gn/T/ipykernel_47396/2004243597.py:39: FutureWarning: The behavior of array concatenation with empty entries is deprecated. In a future version, this will no longer exclude empty items when determining the result dtype. To retain the old behavior, exclude the empty entries before the concat operation.\n",
      "  final_combined_df[base_col_name] = final_combined_df[base_col_name].combine_first(final_combined_df[col])\n"
     ]
    }
   ],
   "source": [
    "# merge movie_df with money_df on 'title' and either 'primary_title' or 'original_title'\n",
    "merged_df_primary = pd.merge(money_df, movie_df, left_on='title', right_on='primary_title', how='left')\n",
    "\n",
    "# for rows where primary_title didn't match, try merging with original_title\n",
    "no_match_primary = merged_df_primary[merged_df_primary['primary_title'].isna()]\n",
    "matched_original = pd.merge(no_match_primary.drop(columns=movie_df.columns.difference(['movie_id', 'original_title'])), \n",
    "                            movie_df, left_on='title', right_on='original_title', how='left')\n",
    "\n",
    "# combine the results\n",
    "final_movie_money_df = pd.concat([merged_df_primary[~merged_df_primary['primary_title'].isna()], matched_original])\n",
    "\n",
    "# merge the combined DataFrame with rotten_tomato_df on 'title'\n",
    "final_combined_df = pd.merge(final_movie_money_df, rotten_tomato_df, on='title', how='left')\n",
    "\n",
    "# rename the 'averagerating' column to 'rating_imdb'\n",
    "final_combined_df.rename(columns={'averagerating': 'rating_imdb'}, inplace=True)\n",
    "\n",
    "# rename the 'review_score' column to 'rating_rotten_tomato'\n",
    "final_combined_df.rename(columns={'review_score': 'rating_rotten_tomato'}, inplace=True)\n",
    "\n",
    "# rename the 'movie_score_tmdb' column to 'rating_tmdb'\n",
    "final_combined_df.rename(columns={'movie_score_tmdb': 'rating_tmdb'}, inplace=True)\n",
    "\n",
    "# create a new column 'rating' that is the average of the 'rating_imdb', 'rating_rotten_tomato', and 'rating_tmdb' columns\n",
    "final_combined_df['rating'] = final_combined_df[['rating_imdb', 'rating_rotten_tomato', 'rating_tmdb']].mean(axis=1)\n",
    "\n",
    "# automatically combine columns with suffixes '_x' and '_y'\n",
    "for col in final_combined_df.columns:\n",
    "    if '_x' in col:\n",
    "        base_col_name = col.rstrip('_x')\n",
    "        if base_col_name in final_combined_df.columns:\n",
    "            final_combined_df[base_col_name] = final_combined_df[base_col_name].combine_first(final_combined_df[col])\n",
    "        else:\n",
    "            final_combined_df[base_col_name] = final_combined_df[col]\n",
    "        final_combined_df.drop(columns=[col], inplace=True)\n",
    "    elif '_y' in col:\n",
    "        base_col_name = col.rstrip('_y')\n",
    "        if base_col_name in final_combined_df.columns:\n",
    "            final_combined_df[base_col_name] = final_combined_df[base_col_name].combine_first(final_combined_df[col])\n",
    "        else:\n",
    "            final_combined_df[base_col_name] = final_combined_df[col]\n",
    "        final_combined_df.drop(columns=[col], inplace=True)\n",
    "\n",
    "# convert list-type columns to a hashable type (like a string or tuple)\n",
    "for col in final_combined_df.columns:\n",
    "    if final_combined_df[col].apply(lambda x: isinstance(x, list)).any():\n",
    "        final_combined_df[col] = final_combined_df[col].apply(lambda x: ', '.join(x) if isinstance(x, list) else x)\n",
    "\n",
    "\n",
    "# drop duplicates\n",
    "final_combined_df.drop_duplicates(inplace=True)\n",
    "\n",
    "# drop empty/unused columns\n",
    "final_combined_df.drop(columns=['theater_date', 'currency', 'fresh', \n",
    "                                'genre', 'runtime', 'director', \n",
    "                                'writer', 'runtime', 'month'\n",
    "                                ], inplace=True)\n",
    "\n",
    "# save the DataFrame to a CSV file\n",
    "final_combined_df.to_csv('./data/derrived_data.csv', index=False)"
   ]
  },
  {
   "cell_type": "code",
   "execution_count": 152,
   "metadata": {},
   "outputs": [
    {
     "data": {
      "text/html": [
       "<div>\n",
       "<style scoped>\n",
       "    .dataframe tbody tr th:only-of-type {\n",
       "        vertical-align: middle;\n",
       "    }\n",
       "\n",
       "    .dataframe tbody tr th {\n",
       "        vertical-align: top;\n",
       "    }\n",
       "\n",
       "    .dataframe thead th {\n",
       "        text-align: right;\n",
       "    }\n",
       "</style>\n",
       "<table border=\"1\" class=\"dataframe\">\n",
       "  <thead>\n",
       "    <tr style=\"text-align: right;\">\n",
       "      <th></th>\n",
       "      <th>release_date</th>\n",
       "      <th>title</th>\n",
       "      <th>production_budget</th>\n",
       "      <th>release_month</th>\n",
       "      <th>profit</th>\n",
       "      <th>roi</th>\n",
       "      <th>movie_id</th>\n",
       "      <th>runtime_minutes</th>\n",
       "      <th>genres</th>\n",
       "      <th>rating</th>\n",
       "      <th>studio</th>\n",
       "      <th>year</th>\n",
       "    </tr>\n",
       "  </thead>\n",
       "  <tbody>\n",
       "    <tr>\n",
       "      <th>0</th>\n",
       "      <td>2011-05-20</td>\n",
       "      <td>Pirates of the Caribbean: On Stranger Tides</td>\n",
       "      <td>4.11e+08</td>\n",
       "      <td>May</td>\n",
       "      <td>6.35e+08</td>\n",
       "      <td>1.55</td>\n",
       "      <td>tt1298650</td>\n",
       "      <td>136.0</td>\n",
       "      <td>[action, adventure]</td>\n",
       "      <td>6.50</td>\n",
       "      <td>BV</td>\n",
       "      <td>2011</td>\n",
       "    </tr>\n",
       "    <tr>\n",
       "      <th>1</th>\n",
       "      <td>2015-05-01</td>\n",
       "      <td>Avengers: Age of Ultron</td>\n",
       "      <td>3.31e+08</td>\n",
       "      <td>May</td>\n",
       "      <td>1.07e+09</td>\n",
       "      <td>3.24</td>\n",
       "      <td>tt2395427</td>\n",
       "      <td>141.0</td>\n",
       "      <td>[action, adventure]</td>\n",
       "      <td>7.30</td>\n",
       "      <td>BV</td>\n",
       "      <td>2015</td>\n",
       "    </tr>\n",
       "    <tr>\n",
       "      <th>2</th>\n",
       "      <td>2018-04-27</td>\n",
       "      <td>Avengers: Infinity War</td>\n",
       "      <td>3.00e+08</td>\n",
       "      <td>Apr</td>\n",
       "      <td>1.75e+09</td>\n",
       "      <td>5.83</td>\n",
       "      <td>tt4154756</td>\n",
       "      <td>149.0</td>\n",
       "      <td>[action, adventure]</td>\n",
       "      <td>8.40</td>\n",
       "      <td>BV</td>\n",
       "      <td>2018</td>\n",
       "    </tr>\n",
       "    <tr>\n",
       "      <th>3</th>\n",
       "      <td>2017-11-17</td>\n",
       "      <td>Justice League</td>\n",
       "      <td>3.00e+08</td>\n",
       "      <td>Nov</td>\n",
       "      <td>3.56e+08</td>\n",
       "      <td>1.19</td>\n",
       "      <td>tt0974015</td>\n",
       "      <td>120.0</td>\n",
       "      <td>[action, adventure]</td>\n",
       "      <td>6.35</td>\n",
       "      <td>WB</td>\n",
       "      <td>2017</td>\n",
       "    </tr>\n",
       "    <tr>\n",
       "      <th>4</th>\n",
       "      <td>2015-11-06</td>\n",
       "      <td>Spectre</td>\n",
       "      <td>3.00e+08</td>\n",
       "      <td>Nov</td>\n",
       "      <td>5.80e+08</td>\n",
       "      <td>1.93</td>\n",
       "      <td>tt2379713</td>\n",
       "      <td>148.0</td>\n",
       "      <td>[action, adventure]</td>\n",
       "      <td>6.60</td>\n",
       "      <td>Sony</td>\n",
       "      <td>2015</td>\n",
       "    </tr>\n",
       "  </tbody>\n",
       "</table>\n",
       "</div>"
      ],
      "text/plain": [
       "  release_date                                        title  production_budget release_month    profit   roi   movie_id  runtime_minutes               genres  rating studio  year\n",
       "0   2011-05-20  Pirates of the Caribbean: On Stranger Tides           4.11e+08           May  6.35e+08  1.55  tt1298650            136.0  [action, adventure]    6.50     BV  2011\n",
       "1   2015-05-01                      Avengers: Age of Ultron           3.31e+08           May  1.07e+09  3.24  tt2395427            141.0  [action, adventure]    7.30     BV  2015\n",
       "2   2018-04-27                       Avengers: Infinity War           3.00e+08           Apr  1.75e+09  5.83  tt4154756            149.0  [action, adventure]    8.40     BV  2018\n",
       "3   2017-11-17                               Justice League           3.00e+08           Nov  3.56e+08  1.19  tt0974015            120.0  [action, adventure]    6.35     WB  2017\n",
       "4   2015-11-06                                      Spectre           3.00e+08           Nov  5.80e+08  1.93  tt2379713            148.0  [action, adventure]    6.60   Sony  2015"
      ]
     },
     "execution_count": 152,
     "metadata": {},
     "output_type": "execute_result"
    }
   ],
   "source": [
    "df = pd.read_csv('./data/derrived_data.csv')\n",
    "\n",
    "\n",
    "\n",
    "# drop the third genre value for each row\n",
    "df['genres'] = df['genres'].apply(lambda x: x.split(', ')[:2] if isinstance(x, str) else x)\n",
    "\n",
    "df.drop(columns=[ 'original_title', 'primary_title', 'domestic_gross_tn', 'worldwide_gross', \n",
    "                 'domestic_gross_bom', 'foreign_gross', 'numvotes', 'id', 'rating_rotten_tomato', \n",
    "                 'rating_tmdb', 'rating_imdb', #'rounded_rating', 'budget_bin' \n",
    "                 ], inplace=True)\n",
    "df.head()\n"
   ]
  },
  {
   "cell_type": "markdown",
   "metadata": {},
   "source": [
    "## Exploratory Data Analysis"
   ]
  },
  {
   "cell_type": "markdown",
   "metadata": {},
   "source": [
    "### Gross by Month"
   ]
  },
  {
   "cell_type": "code",
   "execution_count": 153,
   "metadata": {},
   "outputs": [
    {
     "data": {
      "image/png": "[encoded data removed]",
      "text/plain": [
       "<Figure size 1200x600 with 1 Axes>"
      ]
     },
     "metadata": {},
     "output_type": "display_data"
    }
   ],
   "source": [
    "# group by release month and calculate the sum of gross for each month\n",
    "monthly_gross = df.groupby('release_month')['roi'].sum().reset_index()\n",
    "\n",
    "# sort the DataFrame by the month order\n",
    "monthly_gross['release_month'] = pd.Categorical(monthly_gross['release_month'], categories=[\n",
    "    'Jan', 'Feb', 'Mar', 'Apr', 'May', 'Jun', 'Jul', 'Aug', 'Sep', 'Oct', 'Nov', 'Dec'], ordered=True)\n",
    "monthly_gross = monthly_gross.sort_values('release_month')\n",
    "\n",
    "# create a bar chart\n",
    "plt.figure(figsize=(12, 6))\n",
    "sns.barplot(x='release_month', y='roi', data=monthly_gross)\n",
    "plt.title('ROI by Release Month')\n",
    "plt.xlabel('Release Month')\n",
    "plt.ylabel('ROI')\n",
    "plt.xticks(rotation=45)\n",
    "plt.show()"
   ]
  },
  {
   "cell_type": "markdown",
   "metadata": {},
   "source": [
    "#### Findings\n",
    "- The highest grossing months are June and November"
   ]
  },
  {
   "cell_type": "markdown",
   "metadata": {},
   "source": [
    "### ROI by Month"
   ]
  },
  {
   "cell_type": "code",
   "execution_count": 154,
   "metadata": {},
   "outputs": [
    {
     "data": {
      "image/png": "[encoded data removed]",
      "text/plain": [
       "<Figure size 1200x600 with 1 Axes>"
      ]
     },
     "metadata": {},
     "output_type": "display_data"
    }
   ],
   "source": [
    "# group by release month and calculate the mean ROI for each month\n",
    "monthly_roi = df.groupby('release_month')['roi'].mean().reset_index()\n",
    "\n",
    "# sort the DataFrame by the month order\n",
    "monthly_roi['release_month'] = pd.Categorical(monthly_roi['release_month'], categories=[\n",
    "    'Jan', 'Feb', 'Mar', 'Apr', 'May', 'Jun', 'Jul', 'Aug', 'Sep', 'Oct', 'Nov', 'Dec'], ordered=True)\n",
    "monthly_roi = monthly_roi.sort_values('release_month')\n",
    "\n",
    "# create a bar chart for ROI\n",
    "plt.figure(figsize=(12, 6))\n",
    "sns.barplot(x='release_month', y='roi', data=monthly_roi)\n",
    "plt.title('Average ROI by Release Month')\n",
    "plt.xlabel('Release Month')\n",
    "plt.ylabel('Average ROI')\n",
    "plt.xticks(rotation=45)\n",
    "plt.show()"
   ]
  },
  {
   "cell_type": "markdown",
   "metadata": {},
   "source": [
    "#### Findings\n",
    "- The highest ROI months are January and July"
   ]
  },
  {
   "cell_type": "markdown",
   "metadata": {},
   "source": [
    "### Reviews by Month"
   ]
  },
  {
   "cell_type": "code",
   "execution_count": 155,
   "metadata": {},
   "outputs": [
    {
     "data": {
      "image/png": "[encoded data removed]",
      "text/plain": [
       "<Figure size 1200x600 with 1 Axes>"
      ]
     },
     "metadata": {},
     "output_type": "display_data"
    }
   ],
   "source": [
    "# group by release month and calculate the average rating for each month\n",
    "monthly_rating = df.groupby('release_month')['rating'].mean().reset_index()\n",
    "\n",
    "# sort the DataFrame by the month order\n",
    "monthly_rating['release_month'] = pd.Categorical(monthly_rating['release_month'], categories=[\n",
    "    'Jan', 'Feb', 'Mar', 'Apr', 'May', 'Jun', 'Jul', 'Aug', 'Sep', 'Oct', 'Nov', 'Dec'], ordered=True)\n",
    "monthly_rating = monthly_rating.sort_values('release_month')\n",
    "\n",
    "# create a bar chart for average rating\n",
    "plt.figure(figsize=(12, 6))\n",
    "sns.barplot(x='release_month', y='rating', data=monthly_rating)\n",
    "plt.title('Average Rating by Release Month')\n",
    "plt.xlabel('Release Month')\n",
    "plt.ylabel('Average Rating')\n",
    "plt.xticks(rotation=45)\n",
    "plt.show()"
   ]
  },
  {
   "cell_type": "markdown",
   "metadata": {},
   "source": [
    "#### Findings\n",
    "- There is no clear pattern in the number of reviews by month"
   ]
  },
  {
   "cell_type": "markdown",
   "metadata": {},
   "source": [
    "### Gross over the years"
   ]
  },
  {
   "cell_type": "code",
   "execution_count": 156,
   "metadata": {},
   "outputs": [
    {
     "data": {
      "image/png": "[encoded data removed]",
      "text/plain": [
       "<Figure size 1400x700 with 2 Axes>"
      ]
     },
     "metadata": {},
     "output_type": "display_data"
    }
   ],
   "source": [
    "# group by release year and calculate the mean ROI and total worldwide gross for each year\n",
    "annual_metrics = money_df.groupby('release_year').agg({'roi': 'mean', 'worldwide_gross': 'sum'}).reset_index()\n",
    "\n",
    "# create a line chart\n",
    "fig, ax1 = plt.subplots(figsize=(14, 7))\n",
    "\n",
    "# plot ROI\n",
    "sns.lineplot(x='release_year', y='roi', data=annual_metrics, marker='o', ax=ax1, label='Average ROI')\n",
    "ax1.set_ylabel('Average ROI')\n",
    "ax1.set_title('Annual Metrics: ROI and Worldwide Gross')\n",
    "ax1.grid(True)\n",
    "\n",
    "# create a secondary y-axis to plot Worldwide Gross\n",
    "ax2 = ax1.twinx()\n",
    "sns.lineplot(x='release_year', y='worldwide_gross', data=annual_metrics, marker='o', ax=ax2, label='Total Worldwide Gross', color='orange')\n",
    "ax2.set_ylabel('Total Worldwide Gross')\n",
    "\n",
    "# customize the plot\n",
    "fig.tight_layout()\n",
    "fig.legend(loc='upper left')\n",
    "plt.xticks(rotation=45)\n",
    "\n",
    "plt.show()"
   ]
  },
  {
   "cell_type": "code",
   "execution_count": 157,
   "metadata": {},
   "outputs": [
    {
     "data": {
      "application/vnd.plotly.v1+json": {
       "config": {
        "plotlyServerURL": "https://plot.ly"
       },
       "data": [
        {
         "mode": "lines+markers",
         "name": "Average ROI",
         "type": "scatter",
         "x": [
          1967,
          1986,
          2001,
          2003,
          2010,
          2011,
          2012,
          2013,
          2014,
          2015,
          2016,
          2017,
          2018
         ],
         "y": [
          -1,
          -0.5013038314285714,
          -0.32979792500000005,
          -0.9709002571428571,
          2.4150496441571847,
          2.421585186734265,
          3.8668040776288444,
          3.018942022380392,
          3.074873414560353,
          6.051017951879829,
          2.917072665226344,
          4.36410222876879,
          3.414225907040367
         ]
        },
        {
         "mode": "lines+markers",
         "name": "Total Worldwide Gross",
         "type": "scatter",
         "x": [
          1967,
          1986,
          2001,
          2003,
          2010,
          2011,
          2012,
          2013,
          2014,
          2015,
          2016,
          2017,
          2018
         ],
         "y": [
          0,
          25506237,
          98386384,
          345291,
          17582389310,
          19596113082,
          21001360634,
          21743605988,
          20775073386,
          21301206779,
          22383820169,
          20719663410,
          19969377535
         ],
         "yaxis": "y2"
        }
       ],
       "layout": {
        "legend": {
         "orientation": "h",
         "x": 0.1,
         "y": 1.1
        },
        "template": {
         "data": {
          "bar": [
           {
            "error_x": {
             "color": "#2a3f5f"
            },
            "error_y": {
             "color": "#2a3f5f"
            },
            "marker": {
             "line": {
              "color": "#E5ECF6",
              "width": 0.5
             },
             "pattern": {
              "fillmode": "overlay",
              "size": 10,
              "solidity": 0.2
             }
            },
            "type": "bar"
           }
          ],
          "barpolar": [
           {
            "marker": {
             "line": {
              "color": "#E5ECF6",
              "width": 0.5
             },
             "pattern": {
              "fillmode": "overlay",
              "size": 10,
              "solidity": 0.2
             }
            },
            "type": "barpolar"
           }
          ],
          "carpet": [
           {
            "aaxis": {
             "endlinecolor": "#2a3f5f",
             "gridcolor": "white",
             "linecolor": "white",
             "minorgridcolor": "white",
             "startlinecolor": "#2a3f5f"
            },
            "baxis": {
             "endlinecolor": "#2a3f5f",
             "gridcolor": "white",
             "linecolor": "white",
             "minorgridcolor": "white",
             "startlinecolor": "#2a3f5f"
            },
            "type": "carpet"
           }
          ],
          "choropleth": [
           {
            "colorbar": {
             "outlinewidth": 0,
             "ticks": ""
            },
            "type": "choropleth"
           }
          ],
          "contour": [
           {
            "colorbar": {
             "outlinewidth": 0,
             "ticks": ""
            },
            "colorscale": [
             [
              0,
              "#0d0887"
             ],
             [
              0.1111111111111111,
              "#46039f"
             ],
             [
              0.2222222222222222,
              "#7201a8"
             ],
             [
              0.3333333333333333,
              "#9c179e"
             ],
             [
              0.4444444444444444,
              "#bd3786"
             ],
             [
              0.5555555555555556,
              "#d8576b"
             ],
             [
              0.6666666666666666,
              "#ed7953"
             ],
             [
              0.7777777777777778,
              "#fb9f3a"
             ],
             [
              0.8888888888888888,
              "#fdca26"
             ],
             [
              1,
              "#f0f921"
             ]
            ],
            "type": "contour"
           }
          ],
          "contourcarpet": [
           {
            "colorbar": {
             "outlinewidth": 0,
             "ticks": ""
            },
            "type": "contourcarpet"
           }
          ],
          "heatmap": [
           {
            "colorbar": {
             "outlinewidth": 0,
             "ticks": ""
            },
            "colorscale": [
             [
              0,
              "#0d0887"
             ],
             [
              0.1111111111111111,
              "#46039f"
             ],
             [
              0.2222222222222222,
              "#7201a8"
             ],
             [
              0.3333333333333333,
              "#9c179e"
             ],
             [
              0.4444444444444444,
              "#bd3786"
             ],
             [
              0.5555555555555556,
              "#d8576b"
             ],
             [
              0.6666666666666666,
              "#ed7953"
             ],
             [
              0.7777777777777778,
              "#fb9f3a"
             ],
             [
              0.8888888888888888,
              "#fdca26"
             ],
             [
              1,
              "#f0f921"
             ]
            ],
            "type": "heatmap"
           }
          ],
          "heatmapgl": [
           {
            "colorbar": {
             "outlinewidth": 0,
             "ticks": ""
            },
            "colorscale": [
             [
              0,
              "#0d0887"
             ],
             [
              0.1111111111111111,
              "#46039f"
             ],
             [
              0.2222222222222222,
              "#7201a8"
             ],
             [
              0.3333333333333333,
              "#9c179e"
             ],
             [
              0.4444444444444444,
              "#bd3786"
             ],
             [
              0.5555555555555556,
              "#d8576b"
             ],
             [
              0.6666666666666666,
              "#ed7953"
             ],
             [
              0.7777777777777778,
              "#fb9f3a"
             ],
             [
              0.8888888888888888,
              "#fdca26"
             ],
             [
              1,
              "#f0f921"
             ]
            ],
            "type": "heatmapgl"
           }
          ],
          "histogram": [
           {
            "marker": {
             "pattern": {
              "fillmode": "overlay",
              "size": 10,
              "solidity": 0.2
             }
            },
            "type": "histogram"
           }
          ],
          "histogram2d": [
           {
            "colorbar": {
             "outlinewidth": 0,
             "ticks": ""
            },
            "colorscale": [
             [
              0,
              "#0d0887"
             ],
             [
              0.1111111111111111,
              "#46039f"
             ],
             [
              0.2222222222222222,
              "#7201a8"
             ],
             [
              0.3333333333333333,
              "#9c179e"
             ],
             [
              0.4444444444444444,
              "#bd3786"
             ],
             [
              0.5555555555555556,
              "#d8576b"
             ],
             [
              0.6666666666666666,
              "#ed7953"
             ],
             [
              0.7777777777777778,
              "#fb9f3a"
             ],
             [
              0.8888888888888888,
              "#fdca26"
             ],
             [
              1,
              "#f0f921"
             ]
            ],
            "type": "histogram2d"
           }
          ],
          "histogram2dcontour": [
           {
            "colorbar": {
             "outlinewidth": 0,
             "ticks": ""
            },
            "colorscale": [
             [
              0,
              "#0d0887"
             ],
             [
              0.1111111111111111,
              "#46039f"
             ],
             [
              0.2222222222222222,
              "#7201a8"
             ],
             [
              0.3333333333333333,
              "#9c179e"
             ],
             [
              0.4444444444444444,
              "#bd3786"
             ],
             [
              0.5555555555555556,
              "#d8576b"
             ],
             [
              0.6666666666666666,
              "#ed7953"
             ],
             [
              0.7777777777777778,
              "#fb9f3a"
             ],
             [
              0.8888888888888888,
              "#fdca26"
             ],
             [
              1,
              "#f0f921"
             ]
            ],
            "type": "histogram2dcontour"
           }
          ],
          "mesh3d": [
           {
            "colorbar": {
             "outlinewidth": 0,
             "ticks": ""
            },
            "type": "mesh3d"
           }
          ],
          "parcoords": [
           {
            "line": {
             "colorbar": {
              "outlinewidth": 0,
              "ticks": ""
             }
            },
            "type": "parcoords"
           }
          ],
          "pie": [
           {
            "automargin": true,
            "type": "pie"
           }
          ],
          "scatter": [
           {
            "fillpattern": {
             "fillmode": "overlay",
             "size": 10,
             "solidity": 0.2
            },
            "type": "scatter"
           }
          ],
          "scatter3d": [
           {
            "line": {
             "colorbar": {
              "outlinewidth": 0,
              "ticks": ""
             }
            },
            "marker": {
             "colorbar": {
              "outlinewidth": 0,
              "ticks": ""
             }
            },
            "type": "scatter3d"
           }
          ],
          "scattercarpet": [
           {
            "marker": {
             "colorbar": {
              "outlinewidth": 0,
              "ticks": ""
             }
            },
            "type": "scattercarpet"
           }
          ],
          "scattergeo": [
           {
            "marker": {
             "colorbar": {
              "outlinewidth": 0,
              "ticks": ""
             }
            },
            "type": "scattergeo"
           }
          ],
          "scattergl": [
           {
            "marker": {
             "colorbar": {
              "outlinewidth": 0,
              "ticks": ""
             }
            },
            "type": "scattergl"
           }
          ],
          "scattermapbox": [
           {
            "marker": {
             "colorbar": {
              "outlinewidth": 0,
              "ticks": ""
             }
            },
            "type": "scattermapbox"
           }
          ],
          "scatterpolar": [
           {
            "marker": {
             "colorbar": {
              "outlinewidth": 0,
              "ticks": ""
             }
            },
            "type": "scatterpolar"
           }
          ],
          "scatterpolargl": [
           {
            "marker": {
             "colorbar": {
              "outlinewidth": 0,
              "ticks": ""
             }
            },
            "type": "scatterpolargl"
           }
          ],
          "scatterternary": [
           {
            "marker": {
             "colorbar": {
              "outlinewidth": 0,
              "ticks": ""
             }
            },
            "type": "scatterternary"
           }
          ],
          "surface": [
           {
            "colorbar": {
             "outlinewidth": 0,
             "ticks": ""
            },
            "colorscale": [
             [
              0,
              "#0d0887"
             ],
             [
              0.1111111111111111,
              "#46039f"
             ],
             [
              0.2222222222222222,
              "#7201a8"
             ],
             [
              0.3333333333333333,
              "#9c179e"
             ],
             [
              0.4444444444444444,
              "#bd3786"
             ],
             [
              0.5555555555555556,
              "#d8576b"
             ],
             [
              0.6666666666666666,
              "#ed7953"
             ],
             [
              0.7777777777777778,
              "#fb9f3a"
             ],
             [
              0.8888888888888888,
              "#fdca26"
             ],
             [
              1,
              "#f0f921"
             ]
            ],
            "type": "surface"
           }
          ],
          "table": [
           {
            "cells": {
             "fill": {
              "color": "#EBF0F8"
             },
             "line": {
              "color": "white"
             }
            },
            "header": {
             "fill": {
              "color": "#C8D4E3"
             },
             "line": {
              "color": "white"
             }
            },
            "type": "table"
           }
          ]
         },
         "layout": {
          "annotationdefaults": {
           "arrowcolor": "#2a3f5f",
           "arrowhead": 0,
           "arrowwidth": 1
          },
          "autotypenumbers": "strict",
          "coloraxis": {
           "colorbar": {
            "outlinewidth": 0,
            "ticks": ""
           }
          },
          "colorscale": {
           "diverging": [
            [
             0,
             "#8e0152"
            ],
            [
             0.1,
             "#c51b7d"
            ],
            [
             0.2,
             "#de77ae"
            ],
            [
             0.3,
             "#f1b6da"
            ],
            [
             0.4,
             "#fde0ef"
            ],
            [
             0.5,
             "#f7f7f7"
            ],
            [
             0.6,
             "#e6f5d0"
            ],
            [
             0.7,
             "#b8e186"
            ],
            [
             0.8,
             "#7fbc41"
            ],
            [
             0.9,
             "#4d9221"
            ],
            [
             1,
             "#276419"
            ]
           ],
           "sequential": [
            [
             0,
             "#0d0887"
            ],
            [
             0.1111111111111111,
             "#46039f"
            ],
            [
             0.2222222222222222,
             "#7201a8"
            ],
            [
             0.3333333333333333,
             "#9c179e"
            ],
            [
             0.4444444444444444,
             "#bd3786"
            ],
            [
             0.5555555555555556,
             "#d8576b"
            ],
            [
             0.6666666666666666,
             "#ed7953"
            ],
            [
             0.7777777777777778,
             "#fb9f3a"
            ],
            [
             0.8888888888888888,
             "#fdca26"
            ],
            [
             1,
             "#f0f921"
            ]
           ],
           "sequentialminus": [
            [
             0,
             "#0d0887"
            ],
            [
             0.1111111111111111,
             "#46039f"
            ],
            [
             0.2222222222222222,
             "#7201a8"
            ],
            [
             0.3333333333333333,
             "#9c179e"
            ],
            [
             0.4444444444444444,
             "#bd3786"
            ],
            [
             0.5555555555555556,
             "#d8576b"
            ],
            [
             0.6666666666666666,
             "#ed7953"
            ],
            [
             0.7777777777777778,
             "#fb9f3a"
            ],
            [
             0.8888888888888888,
             "#fdca26"
            ],
            [
             1,
             "#f0f921"
            ]
           ]
          },
          "colorway": [
           "#636efa",
           "#EF553B",
           "#00cc96",
           "#ab63fa",
           "#FFA15A",
           "#19d3f3",
           "#FF6692",
           "#B6E880",
           "#FF97FF",
           "#FECB52"
          ],
          "font": {
           "color": "#2a3f5f"
          },
          "geo": {
           "bgcolor": "white",
           "lakecolor": "white",
           "landcolor": "#E5ECF6",
           "showlakes": true,
           "showland": true,
           "subunitcolor": "white"
          },
          "hoverlabel": {
           "align": "left"
          },
          "hovermode": "closest",
          "mapbox": {
           "style": "light"
          },
          "paper_bgcolor": "white",
          "plot_bgcolor": "#E5ECF6",
          "polar": {
           "angularaxis": {
            "gridcolor": "white",
            "linecolor": "white",
            "ticks": ""
           },
           "bgcolor": "#E5ECF6",
           "radialaxis": {
            "gridcolor": "white",
            "linecolor": "white",
            "ticks": ""
           }
          },
          "scene": {
           "xaxis": {
            "backgroundcolor": "#E5ECF6",
            "gridcolor": "white",
            "gridwidth": 2,
            "linecolor": "white",
            "showbackground": true,
            "ticks": "",
            "zerolinecolor": "white"
           },
           "yaxis": {
            "backgroundcolor": "#E5ECF6",
            "gridcolor": "white",
            "gridwidth": 2,
            "linecolor": "white",
            "showbackground": true,
            "ticks": "",
            "zerolinecolor": "white"
           },
           "zaxis": {
            "backgroundcolor": "#E5ECF6",
            "gridcolor": "white",
            "gridwidth": 2,
            "linecolor": "white",
            "showbackground": true,
            "ticks": "",
            "zerolinecolor": "white"
           }
          },
          "shapedefaults": {
           "line": {
            "color": "#2a3f5f"
           }
          },
          "ternary": {
           "aaxis": {
            "gridcolor": "white",
            "linecolor": "white",
            "ticks": ""
           },
           "baxis": {
            "gridcolor": "white",
            "linecolor": "white",
            "ticks": ""
           },
           "bgcolor": "#E5ECF6",
           "caxis": {
            "gridcolor": "white",
            "linecolor": "white",
            "ticks": ""
           }
          },
          "title": {
           "x": 0.05
          },
          "xaxis": {
           "automargin": true,
           "gridcolor": "white",
           "linecolor": "white",
           "ticks": "",
           "title": {
            "standoff": 15
           },
           "zerolinecolor": "white",
           "zerolinewidth": 2
          },
          "yaxis": {
           "automargin": true,
           "gridcolor": "white",
           "linecolor": "white",
           "ticks": "",
           "title": {
            "standoff": 15
           },
           "zerolinecolor": "white",
           "zerolinewidth": 2
          }
         }
        },
        "title": {
         "text": "Annual Metrics: ROI and Worldwide Gross"
        },
        "xaxis": {
         "title": {
          "text": "Release Year"
         }
        },
        "yaxis": {
         "title": {
          "text": "Average ROI"
         }
        },
        "yaxis2": {
         "overlaying": "y",
         "side": "right",
         "title": {
          "text": "Total Worldwide Gross"
         }
        }
       }
      },
      "text/html": [
       "<div>                            <div id=\"4adafcfd-2902-4566-a536-f014bc86b10f\" class=\"plotly-graph-div\" style=\"height:525px; width:100%;\"></div>            <script type=\"text/javascript\">                require([\"plotly\"], function(Plotly) {                    window.PLOTLYENV=window.PLOTLYENV || {};                                    if (document.getElementById(\"4adafcfd-2902-4566-a536-f014bc86b10f\")) {                    Plotly.newPlot(                        \"4adafcfd-2902-4566-a536-f014bc86b10f\",                        [{\"mode\":\"lines+markers\",\"name\":\"Average ROI\",\"x\":[1967,1986,2001,2003,2010,2011,2012,2013,2014,2015,2016,2017,2018],\"y\":[-1.0,-0.5013038314285714,-0.32979792500000005,-0.9709002571428571,2.4150496441571847,2.421585186734265,3.8668040776288444,3.018942022380392,3.074873414560353,6.051017951879829,2.917072665226344,4.36410222876879,3.414225907040367],\"type\":\"scatter\"},{\"mode\":\"lines+markers\",\"name\":\"Total Worldwide Gross\",\"x\":[1967,1986,2001,2003,2010,2011,2012,2013,2014,2015,2016,2017,2018],\"y\":[0.0,25506237.0,98386384.0,345291.0,17582389310.0,19596113082.0,21001360634.0,21743605988.0,20775073386.0,21301206779.0,22383820169.0,20719663410.0,19969377535.0],\"yaxis\":\"y2\",\"type\":\"scatter\"}],                        {\"legend\":{\"orientation\":\"h\",\"x\":0.1,\"y\":1.1},\"title\":{\"text\":\"Annual Metrics: ROI and Worldwide Gross\"},\"xaxis\":{\"title\":{\"text\":\"Release Year\"}},\"yaxis\":{\"title\":{\"text\":\"Average ROI\"}},\"yaxis2\":{\"overlaying\":\"y\",\"side\":\"right\",\"title\":{\"text\":\"Total Worldwide Gross\"}},\"template\":{\"data\":{\"histogram2dcontour\":[{\"type\":\"histogram2dcontour\",\"colorbar\":{\"outlinewidth\":0,\"ticks\":\"\"},\"colorscale\":[[0.0,\"#0d0887\"],[0.1111111111111111,\"#46039f\"],[0.2222222222222222,\"#7201a8\"],[0.3333333333333333,\"#9c179e\"],[0.4444444444444444,\"#bd3786\"],[0.5555555555555556,\"#d8576b\"],[0.6666666666666666,\"#ed7953\"],[0.7777777777777778,\"#fb9f3a\"],[0.8888888888888888,\"#fdca26\"],[1.0,\"#f0f921\"]]}],\"choropleth\":[{\"type\":\"choropleth\",\"colorbar\":{\"outlinewidth\":0,\"ticks\":\"\"}}],\"histogram2d\":[{\"type\":\"histogram2d\",\"colorbar\":{\"outlinewidth\":0,\"ticks\":\"\"},\"colorscale\":[[0.0,\"#0d0887\"],[0.1111111111111111,\"#46039f\"],[0.2222222222222222,\"#7201a8\"],[0.3333333333333333,\"#9c179e\"],[0.4444444444444444,\"#bd3786\"],[0.5555555555555556,\"#d8576b\"],[0.6666666666666666,\"#ed7953\"],[0.7777777777777778,\"#fb9f3a\"],[0.8888888888888888,\"#fdca26\"],[1.0,\"#f0f921\"]]}],\"heatmap\":[{\"type\":\"heatmap\",\"colorbar\":{\"outlinewidth\":0,\"ticks\":\"\"},\"colorscale\":[[0.0,\"#0d0887\"],[0.1111111111111111,\"#46039f\"],[0.2222222222222222,\"#7201a8\"],[0.3333333333333333,\"#9c179e\"],[0.4444444444444444,\"#bd3786\"],[0.5555555555555556,\"#d8576b\"],[0.6666666666666666,\"#ed7953\"],[0.7777777777777778,\"#fb9f3a\"],[0.8888888888888888,\"#fdca26\"],[1.0,\"#f0f921\"]]}],\"heatmapgl\":[{\"type\":\"heatmapgl\",\"colorbar\":{\"outlinewidth\":0,\"ticks\":\"\"},\"colorscale\":[[0.0,\"#0d0887\"],[0.1111111111111111,\"#46039f\"],[0.2222222222222222,\"#7201a8\"],[0.3333333333333333,\"#9c179e\"],[0.4444444444444444,\"#bd3786\"],[0.5555555555555556,\"#d8576b\"],[0.6666666666666666,\"#ed7953\"],[0.7777777777777778,\"#fb9f3a\"],[0.8888888888888888,\"#fdca26\"],[1.0,\"#f0f921\"]]}],\"contourcarpet\":[{\"type\":\"contourcarpet\",\"colorbar\":{\"outlinewidth\":0,\"ticks\":\"\"}}],\"contour\":[{\"type\":\"contour\",\"colorbar\":{\"outlinewidth\":0,\"ticks\":\"\"},\"colorscale\":[[0.0,\"#0d0887\"],[0.1111111111111111,\"#46039f\"],[0.2222222222222222,\"#7201a8\"],[0.3333333333333333,\"#9c179e\"],[0.4444444444444444,\"#bd3786\"],[0.5555555555555556,\"#d8576b\"],[0.6666666666666666,\"#ed7953\"],[0.7777777777777778,\"#fb9f3a\"],[0.8888888888888888,\"#fdca26\"],[1.0,\"#f0f921\"]]}],\"surface\":[{\"type\":\"surface\",\"colorbar\":{\"outlinewidth\":0,\"ticks\":\"\"},\"colorscale\":[[0.0,\"#0d0887\"],[0.1111111111111111,\"#46039f\"],[0.2222222222222222,\"#7201a8\"],[0.3333333333333333,\"#9c179e\"],[0.4444444444444444,\"#bd3786\"],[0.5555555555555556,\"#d8576b\"],[0.6666666666666666,\"#ed7953\"],[0.7777777777777778,\"#fb9f3a\"],[0.8888888888888888,\"#fdca26\"],[1.0,\"#f0f921\"]]}],\"mesh3d\":[{\"type\":\"mesh3d\",\"colorbar\":{\"outlinewidth\":0,\"ticks\":\"\"}}],\"scatter\":[{\"fillpattern\":{\"fillmode\":\"overlay\",\"size\":10,\"solidity\":0.2},\"type\":\"scatter\"}],\"parcoords\":[{\"type\":\"parcoords\",\"line\":{\"colorbar\":{\"outlinewidth\":0,\"ticks\":\"\"}}}],\"scatterpolargl\":[{\"type\":\"scatterpolargl\",\"marker\":{\"colorbar\":{\"outlinewidth\":0,\"ticks\":\"\"}}}],\"bar\":[{\"error_x\":{\"color\":\"#2a3f5f\"},\"error_y\":{\"color\":\"#2a3f5f\"},\"marker\":{\"line\":{\"color\":\"#E5ECF6\",\"width\":0.5},\"pattern\":{\"fillmode\":\"overlay\",\"size\":10,\"solidity\":0.2}},\"type\":\"bar\"}],\"scattergeo\":[{\"type\":\"scattergeo\",\"marker\":{\"colorbar\":{\"outlinewidth\":0,\"ticks\":\"\"}}}],\"scatterpolar\":[{\"type\":\"scatterpolar\",\"marker\":{\"colorbar\":{\"outlinewidth\":0,\"ticks\":\"\"}}}],\"histogram\":[{\"marker\":{\"pattern\":{\"fillmode\":\"overlay\",\"size\":10,\"solidity\":0.2}},\"type\":\"histogram\"}],\"scattergl\":[{\"type\":\"scattergl\",\"marker\":{\"colorbar\":{\"outlinewidth\":0,\"ticks\":\"\"}}}],\"scatter3d\":[{\"type\":\"scatter3d\",\"line\":{\"colorbar\":{\"outlinewidth\":0,\"ticks\":\"\"}},\"marker\":{\"colorbar\":{\"outlinewidth\":0,\"ticks\":\"\"}}}],\"scattermapbox\":[{\"type\":\"scattermapbox\",\"marker\":{\"colorbar\":{\"outlinewidth\":0,\"ticks\":\"\"}}}],\"scatterternary\":[{\"type\":\"scatterternary\",\"marker\":{\"colorbar\":{\"outlinewidth\":0,\"ticks\":\"\"}}}],\"scattercarpet\":[{\"type\":\"scattercarpet\",\"marker\":{\"colorbar\":{\"outlinewidth\":0,\"ticks\":\"\"}}}],\"carpet\":[{\"aaxis\":{\"endlinecolor\":\"#2a3f5f\",\"gridcolor\":\"white\",\"linecolor\":\"white\",\"minorgridcolor\":\"white\",\"startlinecolor\":\"#2a3f5f\"},\"baxis\":{\"endlinecolor\":\"#2a3f5f\",\"gridcolor\":\"white\",\"linecolor\":\"white\",\"minorgridcolor\":\"white\",\"startlinecolor\":\"#2a3f5f\"},\"type\":\"carpet\"}],\"table\":[{\"cells\":{\"fill\":{\"color\":\"#EBF0F8\"},\"line\":{\"color\":\"white\"}},\"header\":{\"fill\":{\"color\":\"#C8D4E3\"},\"line\":{\"color\":\"white\"}},\"type\":\"table\"}],\"barpolar\":[{\"marker\":{\"line\":{\"color\":\"#E5ECF6\",\"width\":0.5},\"pattern\":{\"fillmode\":\"overlay\",\"size\":10,\"solidity\":0.2}},\"type\":\"barpolar\"}],\"pie\":[{\"automargin\":true,\"type\":\"pie\"}]},\"layout\":{\"autotypenumbers\":\"strict\",\"colorway\":[\"#636efa\",\"#EF553B\",\"#00cc96\",\"#ab63fa\",\"#FFA15A\",\"#19d3f3\",\"#FF6692\",\"#B6E880\",\"#FF97FF\",\"#FECB52\"],\"font\":{\"color\":\"#2a3f5f\"},\"hovermode\":\"closest\",\"hoverlabel\":{\"align\":\"left\"},\"paper_bgcolor\":\"white\",\"plot_bgcolor\":\"#E5ECF6\",\"polar\":{\"bgcolor\":\"#E5ECF6\",\"angularaxis\":{\"gridcolor\":\"white\",\"linecolor\":\"white\",\"ticks\":\"\"},\"radialaxis\":{\"gridcolor\":\"white\",\"linecolor\":\"white\",\"ticks\":\"\"}},\"ternary\":{\"bgcolor\":\"#E5ECF6\",\"aaxis\":{\"gridcolor\":\"white\",\"linecolor\":\"white\",\"ticks\":\"\"},\"baxis\":{\"gridcolor\":\"white\",\"linecolor\":\"white\",\"ticks\":\"\"},\"caxis\":{\"gridcolor\":\"white\",\"linecolor\":\"white\",\"ticks\":\"\"}},\"coloraxis\":{\"colorbar\":{\"outlinewidth\":0,\"ticks\":\"\"}},\"colorscale\":{\"sequential\":[[0.0,\"#0d0887\"],[0.1111111111111111,\"#46039f\"],[0.2222222222222222,\"#7201a8\"],[0.3333333333333333,\"#9c179e\"],[0.4444444444444444,\"#bd3786\"],[0.5555555555555556,\"#d8576b\"],[0.6666666666666666,\"#ed7953\"],[0.7777777777777778,\"#fb9f3a\"],[0.8888888888888888,\"#fdca26\"],[1.0,\"#f0f921\"]],\"sequentialminus\":[[0.0,\"#0d0887\"],[0.1111111111111111,\"#46039f\"],[0.2222222222222222,\"#7201a8\"],[0.3333333333333333,\"#9c179e\"],[0.4444444444444444,\"#bd3786\"],[0.5555555555555556,\"#d8576b\"],[0.6666666666666666,\"#ed7953\"],[0.7777777777777778,\"#fb9f3a\"],[0.8888888888888888,\"#fdca26\"],[1.0,\"#f0f921\"]],\"diverging\":[[0,\"#8e0152\"],[0.1,\"#c51b7d\"],[0.2,\"#de77ae\"],[0.3,\"#f1b6da\"],[0.4,\"#fde0ef\"],[0.5,\"#f7f7f7\"],[0.6,\"#e6f5d0\"],[0.7,\"#b8e186\"],[0.8,\"#7fbc41\"],[0.9,\"#4d9221\"],[1,\"#276419\"]]},\"xaxis\":{\"gridcolor\":\"white\",\"linecolor\":\"white\",\"ticks\":\"\",\"title\":{\"standoff\":15},\"zerolinecolor\":\"white\",\"automargin\":true,\"zerolinewidth\":2},\"yaxis\":{\"gridcolor\":\"white\",\"linecolor\":\"white\",\"ticks\":\"\",\"title\":{\"standoff\":15},\"zerolinecolor\":\"white\",\"automargin\":true,\"zerolinewidth\":2},\"scene\":{\"xaxis\":{\"backgroundcolor\":\"#E5ECF6\",\"gridcolor\":\"white\",\"linecolor\":\"white\",\"showbackground\":true,\"ticks\":\"\",\"zerolinecolor\":\"white\",\"gridwidth\":2},\"yaxis\":{\"backgroundcolor\":\"#E5ECF6\",\"gridcolor\":\"white\",\"linecolor\":\"white\",\"showbackground\":true,\"ticks\":\"\",\"zerolinecolor\":\"white\",\"gridwidth\":2},\"zaxis\":{\"backgroundcolor\":\"#E5ECF6\",\"gridcolor\":\"white\",\"linecolor\":\"white\",\"showbackground\":true,\"ticks\":\"\",\"zerolinecolor\":\"white\",\"gridwidth\":2}},\"shapedefaults\":{\"line\":{\"color\":\"#2a3f5f\"}},\"annotationdefaults\":{\"arrowcolor\":\"#2a3f5f\",\"arrowhead\":0,\"arrowwidth\":1},\"geo\":{\"bgcolor\":\"white\",\"landcolor\":\"#E5ECF6\",\"subunitcolor\":\"white\",\"showland\":true,\"showlakes\":true,\"lakecolor\":\"white\"},\"title\":{\"x\":0.05},\"mapbox\":{\"style\":\"light\"}}}},                        {\"responsive\": true}                    ).then(function(){\n",
       "                            \n",
       "var gd = document.getElementById('4adafcfd-2902-4566-a536-f014bc86b10f');\n",
       "var x = new MutationObserver(function (mutations, observer) {{\n",
       "        var display = window.getComputedStyle(gd).display;\n",
       "        if (!display || display === 'none') {{\n",
       "            console.log([gd, 'removed!']);\n",
       "            Plotly.purge(gd);\n",
       "            observer.disconnect();\n",
       "        }}\n",
       "}});\n",
       "\n",
       "// Listen for the removal of the full notebook cells\n",
       "var notebookContainer = gd.closest('#notebook-container');\n",
       "if (notebookContainer) {{\n",
       "    x.observe(notebookContainer, {childList: true});\n",
       "}}\n",
       "\n",
       "// Listen for the clearing of the current output cell\n",
       "var outputEl = gd.closest('.output');\n",
       "if (outputEl) {{\n",
       "    x.observe(outputEl, {childList: true});\n",
       "}}\n",
       "\n",
       "                        })                };                });            </script>        </div>"
      ]
     },
     "metadata": {},
     "output_type": "display_data"
    }
   ],
   "source": [
    "# Group by release year and calculate the mean ROI and total worldwide gross for each year\n",
    "annual_metrics = money_df.groupby('release_year').agg({'roi': 'mean', 'worldwide_gross': 'sum'}).reset_index()\n",
    "\n",
    "# Create traces\n",
    "trace1 = go.Scatter(x=annual_metrics['release_year'], y=annual_metrics['roi'], mode='lines+markers', name='Average ROI')\n",
    "trace2 = go.Scatter(x=annual_metrics['release_year'], y=annual_metrics['worldwide_gross'], mode='lines+markers', name='Total Worldwide Gross', yaxis='y2')\n",
    "\n",
    "# Create layout with secondary y-axis\n",
    "layout = go.Layout(\n",
    "    title='Annual Metrics: ROI and Worldwide Gross',\n",
    "    xaxis=dict(title='Release Year'),\n",
    "    yaxis=dict(title='Average ROI'),\n",
    "    yaxis2=dict(title='Total Worldwide Gross', overlaying='y', side='right'),\n",
    "    legend=dict(x=0.1, y=1.1, orientation='h')\n",
    ")\n",
    "\n",
    "# Create figure\n",
    "fig = go.Figure(data=[trace1, trace2], layout=layout)\n",
    "\n",
    "# Show plot\n",
    "fig.show()"
   ]
  },
  {
   "cell_type": "markdown",
   "metadata": {},
   "source": [
    "#### Findings\n",
    "- The gross revenue has been increasing over the years\n",
    "- ROI has been increasing over the years"
   ]
  },
  {
   "cell_type": "markdown",
   "metadata": {},
   "source": [
    "### Comparison of ROI by Genre"
   ]
  },
  {
   "cell_type": "code",
   "execution_count": 158,
   "metadata": {},
   "outputs": [
    {
     "name": "stderr",
     "output_type": "stream",
     "text": [
      "/var/folders/zp/h7t69w7n1jvg_7vxjttlw77c0000gn/T/ipykernel_47396/2595691089.py:19: FutureWarning:\n",
      "\n",
      "\n",
      "\n",
      "Passing `palette` without assigning `hue` is deprecated and will be removed in v0.14.0. Assign the `y` variable to `hue` and set `legend=False` for the same effect.\n",
      "\n",
      "\n"
     ]
    },
    {
     "data": {
      "image/png": "[encoded data removed]",
      "text/plain": [
       "<Figure size 1400x800 with 1 Axes>"
      ]
     },
     "metadata": {},
     "output_type": "display_data"
    }
   ],
   "source": [
    "# explode the genres so each genre gets its own row\n",
    "movie_df_exploded = df.explode('genres')\n",
    "\n",
    "# calculate the average ROI for each genre\n",
    "roi_by_genre = movie_df_exploded.groupby('genres')['roi'].mean().reset_index()\n",
    "\n",
    "# sort the data by ROI\n",
    "roi_by_genre_sorted = roi_by_genre.sort_values(by='roi', ascending=False)\n",
    "\n",
    "# select the top 5 and bottom 5 genres\n",
    "top_5_genres = roi_by_genre_sorted.head(5)\n",
    "bottom_5_genres = roi_by_genre_sorted.tail(5)\n",
    "\n",
    "# combine the top and bottom 5 genres\n",
    "selected_genres = pd.concat([top_5_genres, bottom_5_genres])\n",
    "\n",
    "# create the bar chart using seaborn\n",
    "plt.figure(figsize=(14, 8))\n",
    "sns.barplot(x='roi', y='genres', data=selected_genres, palette='viridis')\n",
    "plt.title('Top 5 and Bottom 5 Genres by Average ROI')\n",
    "plt.xlabel('Average ROI')\n",
    "plt.ylabel('Genre')\n",
    "plt.show()"
   ]
  },
  {
   "cell_type": "code",
   "execution_count": 159,
   "metadata": {},
   "outputs": [
    {
     "name": "stderr",
     "output_type": "stream",
     "text": [
      "/var/folders/zp/h7t69w7n1jvg_7vxjttlw77c0000gn/T/ipykernel_47396/3491240490.py:19: FutureWarning:\n",
      "\n",
      "\n",
      "\n",
      "Passing `palette` without assigning `hue` is deprecated and will be removed in v0.14.0. Assign the `y` variable to `hue` and set `legend=False` for the same effect.\n",
      "\n",
      "\n"
     ]
    },
    {
     "data": {
      "image/png": "[encoded data removed]",
      "text/plain": [
       "<Figure size 1200x800 with 1 Axes>"
      ]
     },
     "metadata": {},
     "output_type": "display_data"
    }
   ],
   "source": [
    "# convert the genres column from lists to strings\n",
    "df['genres'] = df['genres'].apply(lambda x: ', '.join(x) if isinstance(x, list) else x)\n",
    "\n",
    "# group by Genre Combinations and Calculate Average ROI\n",
    "roi_by_genre_combination = df.groupby('genres')['roi'].mean().reset_index()\n",
    "\n",
    "# sort the Combinations by ROI\n",
    "roi_by_genre_combination = roi_by_genre_combination.sort_values(by='roi', ascending=False)\n",
    "\n",
    "# select the Top 5 and Bottom 5 Genre Combinations\n",
    "top_5_genres = roi_by_genre_combination.head(5)\n",
    "bottom_5_genres = roi_by_genre_combination.tail(5)\n",
    "\n",
    "# combine the top and bottom 5\n",
    "selected_genres = pd.concat([top_5_genres, bottom_5_genres])\n",
    "\n",
    "# visualize the results\n",
    "plt.figure(figsize=(12, 8))\n",
    "sns.barplot(x='roi', y='genres', data=selected_genres, palette='viridis')\n",
    "plt.title('Top 5 and Bottom 5 Genre Combinations by Average ROI')\n",
    "plt.xlabel('Average ROI')\n",
    "plt.ylabel('Genre Combination')\n",
    "plt.show()"
   ]
  },
  {
   "cell_type": "markdown",
   "metadata": {},
   "source": [
    "#### Findings\n",
    "- The genres with the highest ROI are:\n",
    "    1. Horror/Mystery\n",
    "    2. Crime\n",
    "    3. Horror/Romance\n",
    "    4. Adventure/Horror\n",
    "    5. Animation/Documentary\n",
    "- The genres with the lowest ROI are:\n",
    "    1. Action/Sport\n",
    "    2. Action/Family\n",
    "    3. Comedy/Thriller\n",
    "    4. Documentary/Sport\n",
    "    5. Documentary/War\n",
    "\n",
    "Note that these findings are also supported by the previous analysis of Individual Genres"
   ]
  },
  {
   "cell_type": "markdown",
   "metadata": {},
   "source": [
    "### Analysis of Runtime\n",
    "- Consider the relationship between runtime and ROI"
   ]
  },
  {
   "cell_type": "code",
   "execution_count": 160,
   "metadata": {},
   "outputs": [
    {
     "name": "stderr",
     "output_type": "stream",
     "text": [
      "/var/folders/zp/h7t69w7n1jvg_7vxjttlw77c0000gn/T/ipykernel_47396/711865534.py:7: FutureWarning:\n",
      "\n",
      "The default of observed=False is deprecated and will be changed to True in a future version of pandas. Pass observed=False to retain current behavior or observed=True to adopt the future default and silence this warning.\n",
      "\n",
      "/var/folders/zp/h7t69w7n1jvg_7vxjttlw77c0000gn/T/ipykernel_47396/711865534.py:11: FutureWarning:\n",
      "\n",
      "\n",
      "\n",
      "Passing `palette` without assigning `hue` is deprecated and will be removed in v0.14.0. Assign the `x` variable to `hue` and set `legend=False` for the same effect.\n",
      "\n",
      "\n"
     ]
    },
    {
     "data": {
      "image/png": "[encoded data removed]",
      "text/plain": [
       "<Figure size 1000x600 with 1 Axes>"
      ]
     },
     "metadata": {},
     "output_type": "display_data"
    }
   ],
   "source": [
    "# bin runtimes into categories\n",
    "bins = [0, 90, 120, 150, float('inf')]  # Define the bins (e.g., Short <90min, Medium 90-120min, Long >120min)\n",
    "labels = ['Short (<90 min)', 'Medium (90-120 min)', 'Long (120-150 min)', 'Very Long (>150 min)']\n",
    "df['runtime_category'] = pd.cut(df['runtime_minutes'], bins=bins, labels=labels, right=False)\n",
    "\n",
    "# calculate the ROI for each runtime category\n",
    "roi_by_runtime_category = df.groupby('runtime_category')['roi'].mean().reset_index()\n",
    "\n",
    "# plot the results\n",
    "plt.figure(figsize=(10, 6))\n",
    "sns.barplot(x='runtime_category', y='roi', data=roi_by_runtime_category, palette='viridis')\n",
    "plt.title('Average ROI by Runtime Category')\n",
    "plt.xlabel('Runtime Category')\n",
    "plt.ylabel('Average ROI')\n",
    "plt.show()"
   ]
  },
  {
   "cell_type": "markdown",
   "metadata": {},
   "source": [
    "#### Findings\n",
    "- Shorter movies tend to have higher ROI"
   ]
  },
  {
   "cell_type": "markdown",
   "metadata": {},
   "source": [
    "### Analysis of Reviews\n",
    "- Consider the relationship between reviews and ROI"
   ]
  },
  {
   "cell_type": "code",
   "execution_count": 161,
   "metadata": {},
   "outputs": [
    {
     "name": "stderr",
     "output_type": "stream",
     "text": [
      "/var/folders/zp/h7t69w7n1jvg_7vxjttlw77c0000gn/T/ipykernel_47396/2048359388.py:9: FutureWarning:\n",
      "\n",
      "\n",
      "\n",
      "Passing `palette` without assigning `hue` is deprecated and will be removed in v0.14.0. Assign the `x` variable to `hue` and set `legend=False` for the same effect.\n",
      "\n",
      "\n"
     ]
    },
    {
     "data": {
      "image/png": "[encoded data removed]",
      "text/plain": [
       "<Figure size 1000x600 with 1 Axes>"
      ]
     },
     "metadata": {},
     "output_type": "display_data"
    }
   ],
   "source": [
    "# Step 1: Round the Ratings to the Nearest Integer\n",
    "df['rounded_rating'] = df['rating'].round()\n",
    "\n",
    "# Step 2: Calculate the Average ROI for Each Rounded Rating\n",
    "roi_by_rounded_rating = df.groupby('rounded_rating')['roi'].mean().reset_index()\n",
    "\n",
    "# Step 3: Create the Bar Chart\n",
    "plt.figure(figsize=(10, 6))\n",
    "sns.barplot(x='rounded_rating', y='roi', data=roi_by_rounded_rating, palette='viridis')\n",
    "plt.title('Average ROI by Rounded Movie Rating')\n",
    "plt.xlabel('Rounded Movie Rating')\n",
    "plt.ylabel('Average ROI')\n",
    "plt.show()"
   ]
  },
  {
   "cell_type": "markdown",
   "metadata": {},
   "source": [
    "#### Findings\n",
    "- There is a positive correlation between weak reviews and high ROI "
   ]
  },
  {
   "cell_type": "markdown",
   "metadata": {},
   "source": [
    "### Analysis of Studios\n",
    "- Consider the relationship between studios and ROI"
   ]
  },
  {
   "cell_type": "code",
   "execution_count": 162,
   "metadata": {},
   "outputs": [
    {
     "name": "stderr",
     "output_type": "stream",
     "text": [
      "/var/folders/zp/h7t69w7n1jvg_7vxjttlw77c0000gn/T/ipykernel_47396/1200728913.py:16: FutureWarning:\n",
      "\n",
      "\n",
      "\n",
      "Passing `palette` without assigning `hue` is deprecated and will be removed in v0.14.0. Assign the `y` variable to `hue` and set `legend=False` for the same effect.\n",
      "\n",
      "\n"
     ]
    },
    {
     "data": {
      "image/png": "[encoded data removed]",
      "text/plain": [
       "<Figure size 1200x800 with 1 Axes>"
      ]
     },
     "metadata": {},
     "output_type": "display_data"
    }
   ],
   "source": [
    "# group by Studio and Calculate Average ROI\n",
    "roi_by_studio = df.groupby('studio')['roi'].mean().reset_index()\n",
    "\n",
    "# sort the Data by ROI\n",
    "roi_by_studio = roi_by_studio.sort_values(by='roi', ascending=False)\n",
    "\n",
    "# select Top 5 and Bottom 5 Studios\n",
    "top_5_studios = roi_by_studio.head(5)\n",
    "bottom_5_studios = roi_by_studio.tail(5)\n",
    "\n",
    "# combine the top and bottom 5 into one DataFrame\n",
    "top_bottom_studios = pd.concat([top_5_studios, bottom_5_studios])\n",
    "\n",
    "# create the Bar Chart\n",
    "plt.figure(figsize=(12, 8))\n",
    "sns.barplot(x='roi', y='studio', data=top_bottom_studios, palette='viridis')\n",
    "plt.title('Top 5 and Bottom 5 Studios by Average ROI')\n",
    "plt.xlabel('Average ROI')\n",
    "plt.ylabel('Studio')\n",
    "plt.show()"
   ]
  },
  {
   "cell_type": "code",
   "execution_count": 163,
   "metadata": {},
   "outputs": [
    {
     "data": {
      "image/png": "[encoded data removed]",
      "text/plain": [
       "<Figure size 1000x600 with 1 Axes>"
      ]
     },
     "metadata": {},
     "output_type": "display_data"
    },
    {
     "name": "stdout",
     "output_type": "stream",
     "text": [
      "Correlation between Production Budget and ROI: -0.08\n"
     ]
    },
    {
     "name": "stderr",
     "output_type": "stream",
     "text": [
      "/var/folders/zp/h7t69w7n1jvg_7vxjttlw77c0000gn/T/ipykernel_47396/1815147737.py:25: FutureWarning:\n",
      "\n",
      "\n",
      "\n",
      "Passing `palette` without assigning `hue` is deprecated and will be removed in v0.14.0. Assign the `x` variable to `hue` and set `legend=False` for the same effect.\n",
      "\n",
      "\n"
     ]
    },
    {
     "data": {
      "image/png": "[encoded data removed]",
      "text/plain": [
       "<Figure size 1000x600 with 1 Axes>"
      ]
     },
     "metadata": {},
     "output_type": "display_data"
    },
    {
     "name": "stdout",
     "output_type": "stream",
     "text": [
      "                            OLS Regression Results                            \n",
      "==============================================================================\n",
      "Dep. Variable:                    roi   R-squared:                       0.006\n",
      "Model:                            OLS   Adj. R-squared:                  0.005\n",
      "Method:                 Least Squares   F-statistic:                     9.325\n",
      "Date:                Mon, 12 Aug 2024   Prob (F-statistic):            0.00230\n",
      "Time:                        04:20:34   Log-Likelihood:                -6234.0\n",
      "No. Observations:                1582   AIC:                         1.247e+04\n",
      "Df Residuals:                    1580   BIC:                         1.248e+04\n",
      "Df Model:                           1                                         \n",
      "Covariance Type:            nonrobust                                         \n",
      "=====================================================================================\n",
      "                        coef    std err          t      P>|t|      [0.025      0.975]\n",
      "-------------------------------------------------------------------------------------\n",
      "const                 4.1629      0.408     10.211      0.000       3.363       4.963\n",
      "production_budget -1.781e-08   5.83e-09     -3.054      0.002   -2.92e-08   -6.37e-09\n",
      "==============================================================================\n",
      "Omnibus:                     3818.534   Durbin-Watson:                   1.459\n",
      "Prob(Omnibus):                  0.000   Jarque-Bera (JB):         37787342.937\n",
      "Skew:                          23.766   Prob(JB):                         0.00\n",
      "Kurtosis:                     758.645   Cond. No.                     9.10e+07\n",
      "==============================================================================\n",
      "\n",
      "Notes:\n",
      "[1] Standard Errors assume that the covariance matrix of the errors is correctly specified.\n",
      "[2] The condition number is large, 9.1e+07. This might indicate that there are\n",
      "strong multicollinearity or other numerical problems.\n"
     ]
    }
   ],
   "source": [
    "# data preparation\n",
    "df = df.replace([np.inf, -np.inf], np.nan)\n",
    "\n",
    "# plot production budget vs. ROI\n",
    "plt.figure(figsize=(10, 6))\n",
    "sns.scatterplot(x='production_budget', y='roi', data=df)\n",
    "plt.title('ROI vs. Production Budget')\n",
    "plt.xlabel('Production Budget')\n",
    "plt.ylabel('ROI')\n",
    "plt.show()\n",
    "\n",
    "# correlation analysis\n",
    "correlation = df['production_budget'].corr(df['roi'])\n",
    "print(f'Correlation between Production Budget and ROI: {correlation:.2f}')\n",
    "\n",
    "# discretize the production_budget into bins\n",
    "binner = KBinsDiscretizer(n_bins=4, encode='ordinal', strategy='quantile')\n",
    "df['budget_bin'] = binner.fit_transform(df[['production_budget']])\n",
    "\n",
    "# analyze average ROI across different budget bins\n",
    "roi_by_budget_bin = df.groupby('budget_bin')['roi'].mean().reset_index()\n",
    "roi_by_budget_bin['budget_range'] = binner.bin_edges_[0][roi_by_budget_bin['budget_bin'].astype(int)]\n",
    "\n",
    "plt.figure(figsize=(10, 6))\n",
    "sns.barplot(x='budget_range', y='roi', data=roi_by_budget_bin, palette='viridis')\n",
    "plt.title('Average ROI by Production Budget Bins')\n",
    "plt.xlabel('Production Budget Range')\n",
    "plt.ylabel('Average ROI')\n",
    "plt.show()\n",
    "\n",
    "# linear regression analysis\n",
    "X = df[['production_budget']]\n",
    "y = df['roi']\n",
    "X = sm.add_constant(X)\n",
    "\n",
    "model = sm.OLS(y, X).fit()\n",
    "print(model.summary())"
   ]
  },
  {
   "cell_type": "markdown",
   "metadata": {},
   "source": [
    "#### Findings\n",
    "Despite the low R-squared, the production budget is statistically significant with a p-value of 0.004, \n",
    "indicating that there is a relationship between production budget and ROI, even though it's weak."
   ]
  },
  {
   "cell_type": "markdown",
   "metadata": {},
   "source": [
    "### Correlation Matrix\n",
    "- Create a correlation matrix to summarize the relationships between the various factors"
   ]
  },
  {
   "cell_type": "code",
   "execution_count": 164,
   "metadata": {},
   "outputs": [
    {
     "data": {
      "image/png": "[encoded data removed]",
      "text/plain": [
       "<Figure size 1200x800 with 2 Axes>"
      ]
     },
     "metadata": {},
     "output_type": "display_data"
    }
   ],
   "source": [
    "# Step 1: Select relevant numeric columns\n",
    "numeric_cols = df.select_dtypes(include=[np.number])\n",
    "\n",
    "# Step 2: Compute the correlation matrix\n",
    "correlation_matrix = numeric_cols.corr()\n",
    "\n",
    "# Step 3: Visualize the correlation matrix\n",
    "plt.figure(figsize=(12, 8))\n",
    "sns.heatmap(correlation_matrix, annot=True, fmt=\".2f\", cmap='coolwarm', linewidths=0.5)\n",
    "plt.title('Correlation Matrix')\n",
    "plt.show()"
   ]
  },
  {
   "cell_type": "markdown",
   "metadata": {},
   "source": [
    "#### Findings\n",
    "- The data is largely uncorrelated"
   ]
  }
 ],
 "metadata": {
  "kernelspec": {
   "display_name": "Python 3 (ipykernel)",
   "language": "python",
   "name": "python3"
  },
  "language_info": {
   "codemirror_mode": {
    "name": "ipython",
    "version": 3
   },
   "file_extension": ".py",
   "mimetype": "text/x-python",
   "name": "python",
   "nbconvert_exporter": "python",
   "pygments_lexer": "ipython3",
   "version": "3.9.18"
  }
 },
 "nbformat": 4,
 "nbformat_minor": 2
}
